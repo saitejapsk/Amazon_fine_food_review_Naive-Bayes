{
 "cells": [
  {
   "cell_type": "markdown",
   "metadata": {
    "colab_type": "text",
    "id": "UIn1GsFNJkjH"
   },
   "source": [
    "# Amazon Fine Food Reviews Analysis\n",
    "\n",
    "\n",
    "Data Source: https://www.kaggle.com/snap/amazon-fine-food-reviews <br>\n",
    "\n",
    "EDA: https://nycdatascience.com/blog/student-works/amazon-fine-foods-visualization/\n",
    "\n",
    "\n",
    "The Amazon Fine Food Reviews dataset consists of reviews of fine foods from Amazon.<br>\n",
    "\n",
    "Number of reviews: 568,454<br>\n",
    "Number of users: 256,059<br>\n",
    "Number of products: 74,258<br>\n",
    "Timespan: Oct 1999 - Oct 2012<br>\n",
    "Number of Attributes/Columns in data: 10 \n",
    "\n",
    "Attribute Information:\n",
    "\n",
    "1. Id\n",
    "2. ProductId - unique identifier for the product\n",
    "3. UserId - unqiue identifier for the user\n",
    "4. ProfileName\n",
    "5. HelpfulnessNumerator - number of users who found the review helpful\n",
    "6. HelpfulnessDenominator - number of users who indicated whether they found the review helpful or not\n",
    "7. Score - rating between 1 and 5\n",
    "8. Time - timestamp for the review\n",
    "9. Summary - brief summary of the review\n",
    "10. Text - text of the review\n",
    "\n",
    "\n",
    "#### Objective:\n",
    "Given a review, determine whether the review is positive (rating of 4 or 5) or negative (rating of 1 or 2).\n",
    "\n",
    "<br>\n",
    "[Q] How to determine if a review is positive or negative?<br>\n",
    "<br> \n",
    "[Ans] We could use Score/Rating. A rating of 4 or 5 can be cosnidered as a positive review. A rating of 1 or 2 can be considered as negative one. A review of rating 3 is considered nuetral and such reviews are ignored from our analysis. This is an approximate and proxy way of determining the polarity (positivity/negativity) of a review.\n",
    "\n",
    "\n"
   ]
  },
  {
   "cell_type": "markdown",
   "metadata": {
    "colab_type": "text",
    "id": "5Uf26aoLJkjJ"
   },
   "source": [
    "# [1]. Reading Data"
   ]
  },
  {
   "cell_type": "markdown",
   "metadata": {
    "colab_type": "text",
    "id": "yo-LaJg3JkjK"
   },
   "source": [
    "## [1.1] Loading the data\n",
    "\n",
    "The dataset is available in two forms\n",
    "1. .csv file\n",
    "2. SQLite Database\n",
    "\n",
    "In order to load the data, We have used the SQLITE dataset as it is easier to query the data and visualise the data efficiently.\n",
    "<br> \n",
    "\n",
    "Here as we only want to get the global sentiment of the recommendations (positive or negative), we will purposefully ignore all Scores equal to 3. If the score is above 3, then the recommendation wil be set to \"positive\". Otherwise, it will be set to \"negative\"."
   ]
  },
  {
   "cell_type": "code",
   "execution_count": 1,
   "metadata": {
    "colab": {},
    "colab_type": "code",
    "id": "dLYq3BkfJkjL"
   },
   "outputs": [],
   "source": [
    "#Refered/code-reusebility from ipynb from applied_ai_course notes \n",
    "\n",
    "%matplotlib inline\n",
    "import warnings\n",
    "warnings.filterwarnings(\"ignore\")\n",
    "import sqlite3\n",
    "import pandas as pd\n",
    "import numpy as np\n",
    "import nltk\n",
    "import string\n",
    "import matplotlib.pyplot as plt\n",
    "import seaborn as sns"
   ]
  },
  {
   "cell_type": "code",
   "execution_count": 2,
   "metadata": {
    "colab": {},
    "colab_type": "code",
    "id": "rXVxnx_NJkjO",
    "outputId": "98628980-4d6e-4c53-913f-2d207932d2d0"
   },
   "outputs": [
    {
     "name": "stdout",
     "output_type": "stream",
     "text": [
      "Number of data points in our data (100000, 10)\n"
     ]
    },
    {
     "data": {
      "text/html": [
       "<div>\n",
       "<style scoped>\n",
       "    .dataframe tbody tr th:only-of-type {\n",
       "        vertical-align: middle;\n",
       "    }\n",
       "\n",
       "    .dataframe tbody tr th {\n",
       "        vertical-align: top;\n",
       "    }\n",
       "\n",
       "    .dataframe thead th {\n",
       "        text-align: right;\n",
       "    }\n",
       "</style>\n",
       "<table border=\"1\" class=\"dataframe\">\n",
       "  <thead>\n",
       "    <tr style=\"text-align: right;\">\n",
       "      <th></th>\n",
       "      <th>Id</th>\n",
       "      <th>ProductId</th>\n",
       "      <th>UserId</th>\n",
       "      <th>ProfileName</th>\n",
       "      <th>HelpfulnessNumerator</th>\n",
       "      <th>HelpfulnessDenominator</th>\n",
       "      <th>Score</th>\n",
       "      <th>Time</th>\n",
       "      <th>Summary</th>\n",
       "      <th>Text</th>\n",
       "    </tr>\n",
       "  </thead>\n",
       "  <tbody>\n",
       "    <tr>\n",
       "      <th>0</th>\n",
       "      <td>1</td>\n",
       "      <td>B001E4KFG0</td>\n",
       "      <td>A3SGXH7AUHU8GW</td>\n",
       "      <td>delmartian</td>\n",
       "      <td>1</td>\n",
       "      <td>1</td>\n",
       "      <td>1</td>\n",
       "      <td>1303862400</td>\n",
       "      <td>Good Quality Dog Food</td>\n",
       "      <td>I have bought several of the Vitality canned d...</td>\n",
       "    </tr>\n",
       "    <tr>\n",
       "      <th>1</th>\n",
       "      <td>2</td>\n",
       "      <td>B00813GRG4</td>\n",
       "      <td>A1D87F6ZCVE5NK</td>\n",
       "      <td>dll pa</td>\n",
       "      <td>0</td>\n",
       "      <td>0</td>\n",
       "      <td>0</td>\n",
       "      <td>1346976000</td>\n",
       "      <td>Not as Advertised</td>\n",
       "      <td>Product arrived labeled as Jumbo Salted Peanut...</td>\n",
       "    </tr>\n",
       "    <tr>\n",
       "      <th>2</th>\n",
       "      <td>3</td>\n",
       "      <td>B000LQOCH0</td>\n",
       "      <td>ABXLMWJIXXAIN</td>\n",
       "      <td>Natalia Corres \"Natalia Corres\"</td>\n",
       "      <td>1</td>\n",
       "      <td>1</td>\n",
       "      <td>1</td>\n",
       "      <td>1219017600</td>\n",
       "      <td>\"Delight\" says it all</td>\n",
       "      <td>This is a confection that has been around a fe...</td>\n",
       "    </tr>\n",
       "  </tbody>\n",
       "</table>\n",
       "</div>"
      ],
      "text/plain": [
       "   Id   ProductId          UserId                      ProfileName  \\\n",
       "0   1  B001E4KFG0  A3SGXH7AUHU8GW                       delmartian   \n",
       "1   2  B00813GRG4  A1D87F6ZCVE5NK                           dll pa   \n",
       "2   3  B000LQOCH0   ABXLMWJIXXAIN  Natalia Corres \"Natalia Corres\"   \n",
       "\n",
       "   HelpfulnessNumerator  HelpfulnessDenominator  Score        Time  \\\n",
       "0                     1                       1      1  1303862400   \n",
       "1                     0                       0      0  1346976000   \n",
       "2                     1                       1      1  1219017600   \n",
       "\n",
       "                 Summary                                               Text  \n",
       "0  Good Quality Dog Food  I have bought several of the Vitality canned d...  \n",
       "1      Not as Advertised  Product arrived labeled as Jumbo Salted Peanut...  \n",
       "2  \"Delight\" says it all  This is a confection that has been around a fe...  "
      ]
     },
     "execution_count": 2,
     "metadata": {},
     "output_type": "execute_result"
    }
   ],
   "source": [
    "# using SQLite Table to read data.\n",
    "con = sqlite3.connect('database.sqlite') \n",
    "\n",
    "# filtering only positive and negative reviews i.e. \n",
    "# not taking into consideration those reviews with Score=3\n",
    "# SELECT * FROM Reviews WHERE Score != 3 LIMIT 500000, will give top 500000 data points\n",
    "# you can change the number to any other number based on your computing power\n",
    "\n",
    "# filtered_data = pd.read_sql_query(\"\"\" SELECT * FROM Reviews WHERE Score != 3 LIMIT 500000\"\"\", con) \n",
    "# for tsne assignment you can take 5k data points\n",
    "\n",
    "filtered_data = pd.read_sql_query(\"\"\" SELECT * FROM Reviews WHERE Score != 3 LIMIT 100000\"\"\", con) \n",
    "\n",
    "# Give reviews with Score>3 a positive rating(1), and reviews with a score<3 a negative rating(0).\n",
    "def partition(x):\n",
    "    if x < 3:\n",
    "        return 0\n",
    "    return 1\n",
    "\n",
    "#changing reviews with score less than 3 to be positive and vice-versa\n",
    "actualScore = filtered_data['Score']\n",
    "positiveNegative = actualScore.map(partition) \n",
    "filtered_data['Score'] = positiveNegative\n",
    "print(\"Number of data points in our data\", filtered_data.shape)\n",
    "filtered_data.head(3)"
   ]
  },
  {
   "cell_type": "code",
   "execution_count": 3,
   "metadata": {
    "colab": {},
    "colab_type": "code",
    "id": "ZLasp3QxJkjS"
   },
   "outputs": [],
   "source": [
    "display = pd.read_sql_query(\"\"\"\n",
    "SELECT UserId, ProductId, ProfileName, Time, Score, Text, COUNT(*)\n",
    "FROM Reviews\n",
    "GROUP BY UserId\n",
    "HAVING COUNT(*)>1\n",
    "\"\"\", con)"
   ]
  },
  {
   "cell_type": "code",
   "execution_count": 4,
   "metadata": {
    "colab": {},
    "colab_type": "code",
    "id": "pHzk_lUkJkjW",
    "outputId": "3461f626-dc72-4b0d-af37-c3625e7e81b2",
    "scrolled": true
   },
   "outputs": [
    {
     "name": "stdout",
     "output_type": "stream",
     "text": [
      "(80668, 7)\n"
     ]
    },
    {
     "data": {
      "text/html": [
       "<div>\n",
       "<style scoped>\n",
       "    .dataframe tbody tr th:only-of-type {\n",
       "        vertical-align: middle;\n",
       "    }\n",
       "\n",
       "    .dataframe tbody tr th {\n",
       "        vertical-align: top;\n",
       "    }\n",
       "\n",
       "    .dataframe thead th {\n",
       "        text-align: right;\n",
       "    }\n",
       "</style>\n",
       "<table border=\"1\" class=\"dataframe\">\n",
       "  <thead>\n",
       "    <tr style=\"text-align: right;\">\n",
       "      <th></th>\n",
       "      <th>UserId</th>\n",
       "      <th>ProductId</th>\n",
       "      <th>ProfileName</th>\n",
       "      <th>Time</th>\n",
       "      <th>Score</th>\n",
       "      <th>Text</th>\n",
       "      <th>COUNT(*)</th>\n",
       "    </tr>\n",
       "  </thead>\n",
       "  <tbody>\n",
       "    <tr>\n",
       "      <th>0</th>\n",
       "      <td>#oc-R115TNMSPFT9I7</td>\n",
       "      <td>B007Y59HVM</td>\n",
       "      <td>Breyton</td>\n",
       "      <td>1331510400</td>\n",
       "      <td>2</td>\n",
       "      <td>Overall its just OK when considering the price...</td>\n",
       "      <td>2</td>\n",
       "    </tr>\n",
       "    <tr>\n",
       "      <th>1</th>\n",
       "      <td>#oc-R11D9D7SHXIJB9</td>\n",
       "      <td>B005HG9ET0</td>\n",
       "      <td>Louis E. Emory \"hoppy\"</td>\n",
       "      <td>1342396800</td>\n",
       "      <td>5</td>\n",
       "      <td>My wife has recurring extreme muscle spasms, u...</td>\n",
       "      <td>3</td>\n",
       "    </tr>\n",
       "    <tr>\n",
       "      <th>2</th>\n",
       "      <td>#oc-R11DNU2NBKQ23Z</td>\n",
       "      <td>B007Y59HVM</td>\n",
       "      <td>Kim Cieszykowski</td>\n",
       "      <td>1348531200</td>\n",
       "      <td>1</td>\n",
       "      <td>This coffee is horrible and unfortunately not ...</td>\n",
       "      <td>2</td>\n",
       "    </tr>\n",
       "    <tr>\n",
       "      <th>3</th>\n",
       "      <td>#oc-R11O5J5ZVQE25C</td>\n",
       "      <td>B005HG9ET0</td>\n",
       "      <td>Penguin Chick</td>\n",
       "      <td>1346889600</td>\n",
       "      <td>5</td>\n",
       "      <td>This will be the bottle that you grab from the...</td>\n",
       "      <td>3</td>\n",
       "    </tr>\n",
       "    <tr>\n",
       "      <th>4</th>\n",
       "      <td>#oc-R12KPBODL2B5ZD</td>\n",
       "      <td>B007OSBE1U</td>\n",
       "      <td>Christopher P. Presta</td>\n",
       "      <td>1348617600</td>\n",
       "      <td>1</td>\n",
       "      <td>I didnt like this coffee. Instead of telling y...</td>\n",
       "      <td>2</td>\n",
       "    </tr>\n",
       "  </tbody>\n",
       "</table>\n",
       "</div>"
      ],
      "text/plain": [
       "               UserId   ProductId             ProfileName        Time  Score  \\\n",
       "0  #oc-R115TNMSPFT9I7  B007Y59HVM                 Breyton  1331510400      2   \n",
       "1  #oc-R11D9D7SHXIJB9  B005HG9ET0  Louis E. Emory \"hoppy\"  1342396800      5   \n",
       "2  #oc-R11DNU2NBKQ23Z  B007Y59HVM        Kim Cieszykowski  1348531200      1   \n",
       "3  #oc-R11O5J5ZVQE25C  B005HG9ET0           Penguin Chick  1346889600      5   \n",
       "4  #oc-R12KPBODL2B5ZD  B007OSBE1U   Christopher P. Presta  1348617600      1   \n",
       "\n",
       "                                                Text  COUNT(*)  \n",
       "0  Overall its just OK when considering the price...         2  \n",
       "1  My wife has recurring extreme muscle spasms, u...         3  \n",
       "2  This coffee is horrible and unfortunately not ...         2  \n",
       "3  This will be the bottle that you grab from the...         3  \n",
       "4  I didnt like this coffee. Instead of telling y...         2  "
      ]
     },
     "execution_count": 4,
     "metadata": {},
     "output_type": "execute_result"
    }
   ],
   "source": [
    "print(display.shape)\n",
    "display.head()"
   ]
  },
  {
   "cell_type": "code",
   "execution_count": 5,
   "metadata": {
    "colab": {},
    "colab_type": "code",
    "id": "HUsn2lg8Jkjb",
    "outputId": "76e2e98e-b728-46ba-d619-c2008134a3b7"
   },
   "outputs": [
    {
     "data": {
      "text/html": [
       "<div>\n",
       "<style scoped>\n",
       "    .dataframe tbody tr th:only-of-type {\n",
       "        vertical-align: middle;\n",
       "    }\n",
       "\n",
       "    .dataframe tbody tr th {\n",
       "        vertical-align: top;\n",
       "    }\n",
       "\n",
       "    .dataframe thead th {\n",
       "        text-align: right;\n",
       "    }\n",
       "</style>\n",
       "<table border=\"1\" class=\"dataframe\">\n",
       "  <thead>\n",
       "    <tr style=\"text-align: right;\">\n",
       "      <th></th>\n",
       "      <th>UserId</th>\n",
       "      <th>ProductId</th>\n",
       "      <th>ProfileName</th>\n",
       "      <th>Time</th>\n",
       "      <th>Score</th>\n",
       "      <th>Text</th>\n",
       "      <th>COUNT(*)</th>\n",
       "    </tr>\n",
       "  </thead>\n",
       "  <tbody>\n",
       "    <tr>\n",
       "      <th>80638</th>\n",
       "      <td>AZY10LLTJ71NX</td>\n",
       "      <td>B006P7E5ZI</td>\n",
       "      <td>undertheshrine \"undertheshrine\"</td>\n",
       "      <td>1334707200</td>\n",
       "      <td>5</td>\n",
       "      <td>I was recommended to try green tea extract to ...</td>\n",
       "      <td>5</td>\n",
       "    </tr>\n",
       "  </tbody>\n",
       "</table>\n",
       "</div>"
      ],
      "text/plain": [
       "              UserId   ProductId                      ProfileName        Time  \\\n",
       "80638  AZY10LLTJ71NX  B006P7E5ZI  undertheshrine \"undertheshrine\"  1334707200   \n",
       "\n",
       "       Score                                               Text  COUNT(*)  \n",
       "80638      5  I was recommended to try green tea extract to ...         5  "
      ]
     },
     "execution_count": 5,
     "metadata": {},
     "output_type": "execute_result"
    }
   ],
   "source": [
    "display[display['UserId']=='AZY10LLTJ71NX']"
   ]
  },
  {
   "cell_type": "code",
   "execution_count": 6,
   "metadata": {
    "colab": {},
    "colab_type": "code",
    "id": "CyPhzHZKJkjf",
    "outputId": "28b60f13-e2e6-4960-e5ba-3467e16dbd03"
   },
   "outputs": [
    {
     "data": {
      "text/plain": [
       "393063"
      ]
     },
     "execution_count": 6,
     "metadata": {},
     "output_type": "execute_result"
    }
   ],
   "source": [
    "display['COUNT(*)'].sum()"
   ]
  },
  {
   "cell_type": "markdown",
   "metadata": {
    "colab_type": "text",
    "id": "y22fy_WtJkji"
   },
   "source": [
    "#  [2] Exploratory Data Analysis"
   ]
  },
  {
   "cell_type": "markdown",
   "metadata": {
    "colab_type": "text",
    "id": "ZqpW3tWPJkjl"
   },
   "source": [
    "## [2.1] Data Cleaning: Deduplication\n",
    "\n",
    "It is observed (as shown in the table below) that the reviews data had many duplicate entries. Hence it was necessary to remove duplicates in order to get unbiased results for the analysis of the data.  Following is an example:"
   ]
  },
  {
   "cell_type": "code",
   "execution_count": 7,
   "metadata": {
    "colab": {},
    "colab_type": "code",
    "id": "fmlu_oooJkjl",
    "outputId": "9ae82f65-ed65-425a-ad4d-b96091e37940",
    "scrolled": false
   },
   "outputs": [
    {
     "data": {
      "text/html": [
       "<div>\n",
       "<style scoped>\n",
       "    .dataframe tbody tr th:only-of-type {\n",
       "        vertical-align: middle;\n",
       "    }\n",
       "\n",
       "    .dataframe tbody tr th {\n",
       "        vertical-align: top;\n",
       "    }\n",
       "\n",
       "    .dataframe thead th {\n",
       "        text-align: right;\n",
       "    }\n",
       "</style>\n",
       "<table border=\"1\" class=\"dataframe\">\n",
       "  <thead>\n",
       "    <tr style=\"text-align: right;\">\n",
       "      <th></th>\n",
       "      <th>Id</th>\n",
       "      <th>ProductId</th>\n",
       "      <th>UserId</th>\n",
       "      <th>ProfileName</th>\n",
       "      <th>HelpfulnessNumerator</th>\n",
       "      <th>HelpfulnessDenominator</th>\n",
       "      <th>Score</th>\n",
       "      <th>Time</th>\n",
       "      <th>Summary</th>\n",
       "      <th>Text</th>\n",
       "    </tr>\n",
       "  </thead>\n",
       "  <tbody>\n",
       "    <tr>\n",
       "      <th>0</th>\n",
       "      <td>78445</td>\n",
       "      <td>B000HDL1RQ</td>\n",
       "      <td>AR5J8UI46CURR</td>\n",
       "      <td>Geetha Krishnan</td>\n",
       "      <td>2</td>\n",
       "      <td>2</td>\n",
       "      <td>5</td>\n",
       "      <td>1199577600</td>\n",
       "      <td>LOACKER QUADRATINI VANILLA WAFERS</td>\n",
       "      <td>DELICIOUS WAFERS. I FIND THAT EUROPEAN WAFERS ...</td>\n",
       "    </tr>\n",
       "    <tr>\n",
       "      <th>1</th>\n",
       "      <td>138317</td>\n",
       "      <td>B000HDOPYC</td>\n",
       "      <td>AR5J8UI46CURR</td>\n",
       "      <td>Geetha Krishnan</td>\n",
       "      <td>2</td>\n",
       "      <td>2</td>\n",
       "      <td>5</td>\n",
       "      <td>1199577600</td>\n",
       "      <td>LOACKER QUADRATINI VANILLA WAFERS</td>\n",
       "      <td>DELICIOUS WAFERS. I FIND THAT EUROPEAN WAFERS ...</td>\n",
       "    </tr>\n",
       "    <tr>\n",
       "      <th>2</th>\n",
       "      <td>138277</td>\n",
       "      <td>B000HDOPYM</td>\n",
       "      <td>AR5J8UI46CURR</td>\n",
       "      <td>Geetha Krishnan</td>\n",
       "      <td>2</td>\n",
       "      <td>2</td>\n",
       "      <td>5</td>\n",
       "      <td>1199577600</td>\n",
       "      <td>LOACKER QUADRATINI VANILLA WAFERS</td>\n",
       "      <td>DELICIOUS WAFERS. I FIND THAT EUROPEAN WAFERS ...</td>\n",
       "    </tr>\n",
       "    <tr>\n",
       "      <th>3</th>\n",
       "      <td>73791</td>\n",
       "      <td>B000HDOPZG</td>\n",
       "      <td>AR5J8UI46CURR</td>\n",
       "      <td>Geetha Krishnan</td>\n",
       "      <td>2</td>\n",
       "      <td>2</td>\n",
       "      <td>5</td>\n",
       "      <td>1199577600</td>\n",
       "      <td>LOACKER QUADRATINI VANILLA WAFERS</td>\n",
       "      <td>DELICIOUS WAFERS. I FIND THAT EUROPEAN WAFERS ...</td>\n",
       "    </tr>\n",
       "    <tr>\n",
       "      <th>4</th>\n",
       "      <td>155049</td>\n",
       "      <td>B000PAQ75C</td>\n",
       "      <td>AR5J8UI46CURR</td>\n",
       "      <td>Geetha Krishnan</td>\n",
       "      <td>2</td>\n",
       "      <td>2</td>\n",
       "      <td>5</td>\n",
       "      <td>1199577600</td>\n",
       "      <td>LOACKER QUADRATINI VANILLA WAFERS</td>\n",
       "      <td>DELICIOUS WAFERS. I FIND THAT EUROPEAN WAFERS ...</td>\n",
       "    </tr>\n",
       "  </tbody>\n",
       "</table>\n",
       "</div>"
      ],
      "text/plain": [
       "       Id   ProductId         UserId      ProfileName  HelpfulnessNumerator  \\\n",
       "0   78445  B000HDL1RQ  AR5J8UI46CURR  Geetha Krishnan                     2   \n",
       "1  138317  B000HDOPYC  AR5J8UI46CURR  Geetha Krishnan                     2   \n",
       "2  138277  B000HDOPYM  AR5J8UI46CURR  Geetha Krishnan                     2   \n",
       "3   73791  B000HDOPZG  AR5J8UI46CURR  Geetha Krishnan                     2   \n",
       "4  155049  B000PAQ75C  AR5J8UI46CURR  Geetha Krishnan                     2   \n",
       "\n",
       "   HelpfulnessDenominator  Score        Time  \\\n",
       "0                       2      5  1199577600   \n",
       "1                       2      5  1199577600   \n",
       "2                       2      5  1199577600   \n",
       "3                       2      5  1199577600   \n",
       "4                       2      5  1199577600   \n",
       "\n",
       "                             Summary  \\\n",
       "0  LOACKER QUADRATINI VANILLA WAFERS   \n",
       "1  LOACKER QUADRATINI VANILLA WAFERS   \n",
       "2  LOACKER QUADRATINI VANILLA WAFERS   \n",
       "3  LOACKER QUADRATINI VANILLA WAFERS   \n",
       "4  LOACKER QUADRATINI VANILLA WAFERS   \n",
       "\n",
       "                                                Text  \n",
       "0  DELICIOUS WAFERS. I FIND THAT EUROPEAN WAFERS ...  \n",
       "1  DELICIOUS WAFERS. I FIND THAT EUROPEAN WAFERS ...  \n",
       "2  DELICIOUS WAFERS. I FIND THAT EUROPEAN WAFERS ...  \n",
       "3  DELICIOUS WAFERS. I FIND THAT EUROPEAN WAFERS ...  \n",
       "4  DELICIOUS WAFERS. I FIND THAT EUROPEAN WAFERS ...  "
      ]
     },
     "execution_count": 7,
     "metadata": {},
     "output_type": "execute_result"
    }
   ],
   "source": [
    "display= pd.read_sql_query(\"\"\"\n",
    "SELECT *\n",
    "FROM Reviews\n",
    "WHERE Score != 3 AND UserId=\"AR5J8UI46CURR\"\n",
    "ORDER BY ProductID\n",
    "\"\"\", con)\n",
    "display.head()"
   ]
  },
  {
   "cell_type": "markdown",
   "metadata": {
    "colab_type": "text",
    "id": "pvogJHEyJkjq"
   },
   "source": [
    "As it can be seen above that same user has multiple reviews with same values for HelpfulnessNumerator, HelpfulnessDenominator, Score, Time, Summary and Text and on doing analysis it was found that <br>\n",
    "<br> \n",
    "ProductId=B000HDOPZG was Loacker Quadratini Vanilla Wafer Cookies, 8.82-Ounce Packages (Pack of 8)<br>\n",
    "<br> \n",
    "ProductId=B000HDL1RQ was Loacker Quadratini Lemon Wafer Cookies, 8.82-Ounce Packages (Pack of 8) and so on<br>\n",
    "\n",
    "It was inferred after analysis that reviews with same parameters other than ProductId belonged to the same product just having different flavour or quantity. Hence in order to reduce redundancy it was decided to eliminate the rows having same parameters.<br>\n",
    "\n",
    "The method used for the same was that we first sort the data according to ProductId and then just keep the first similar product review and delelte the others. for eg. in the above just the review for ProductId=B000HDL1RQ remains. This method ensures that there is only one representative for each product and deduplication without sorting would lead to possibility of different representatives still existing for the same product."
   ]
  },
  {
   "cell_type": "code",
   "execution_count": 8,
   "metadata": {
    "colab": {},
    "colab_type": "code",
    "id": "LAWOrfBaJkjr"
   },
   "outputs": [],
   "source": [
    "#Sorting data according to ProductId in ascending order\n",
    "sorted_data=filtered_data.sort_values('ProductId', axis=0, ascending=True, inplace=False, kind='quicksort', na_position='last')"
   ]
  },
  {
   "cell_type": "code",
   "execution_count": 9,
   "metadata": {
    "colab": {},
    "colab_type": "code",
    "id": "dfaQob28Jkju",
    "outputId": "21104e4f-cd18-4353-a54a-5b4638fc552b"
   },
   "outputs": [
    {
     "data": {
      "text/plain": [
       "(87775, 10)"
      ]
     },
     "execution_count": 9,
     "metadata": {},
     "output_type": "execute_result"
    }
   ],
   "source": [
    "#Deduplication of entries\n",
    "final=sorted_data.drop_duplicates(subset={\"UserId\",\"ProfileName\",\"Time\",\"Text\"}, keep='first', inplace=False)\n",
    "final.shape"
   ]
  },
  {
   "cell_type": "code",
   "execution_count": 10,
   "metadata": {
    "colab": {},
    "colab_type": "code",
    "id": "9QVxT6oxJkjx",
    "outputId": "f292b9fe-6065-4979-830d-c79bc6785a3d"
   },
   "outputs": [
    {
     "data": {
      "text/plain": [
       "87.775"
      ]
     },
     "execution_count": 10,
     "metadata": {},
     "output_type": "execute_result"
    }
   ],
   "source": [
    "#Checking to see how much % of data still remains\n",
    "(final['Id'].size*1.0)/(filtered_data['Id'].size*1.0)*100"
   ]
  },
  {
   "cell_type": "markdown",
   "metadata": {
    "colab_type": "text",
    "id": "qVaxONHLJkj1"
   },
   "source": [
    "<b>Observation:-</b> It was also seen that in two rows given below the value of HelpfulnessNumerator is greater than HelpfulnessDenominator which is not practically possible hence these two rows too are removed from calcualtions"
   ]
  },
  {
   "cell_type": "code",
   "execution_count": 11,
   "metadata": {
    "colab": {},
    "colab_type": "code",
    "id": "vLoqfOjcJkj1",
    "outputId": "db3448f8-fbda-4205-a7cc-5048e0f1fd19"
   },
   "outputs": [
    {
     "data": {
      "text/html": [
       "<div>\n",
       "<style scoped>\n",
       "    .dataframe tbody tr th:only-of-type {\n",
       "        vertical-align: middle;\n",
       "    }\n",
       "\n",
       "    .dataframe tbody tr th {\n",
       "        vertical-align: top;\n",
       "    }\n",
       "\n",
       "    .dataframe thead th {\n",
       "        text-align: right;\n",
       "    }\n",
       "</style>\n",
       "<table border=\"1\" class=\"dataframe\">\n",
       "  <thead>\n",
       "    <tr style=\"text-align: right;\">\n",
       "      <th></th>\n",
       "      <th>Id</th>\n",
       "      <th>ProductId</th>\n",
       "      <th>UserId</th>\n",
       "      <th>ProfileName</th>\n",
       "      <th>HelpfulnessNumerator</th>\n",
       "      <th>HelpfulnessDenominator</th>\n",
       "      <th>Score</th>\n",
       "      <th>Time</th>\n",
       "      <th>Summary</th>\n",
       "      <th>Text</th>\n",
       "    </tr>\n",
       "  </thead>\n",
       "  <tbody>\n",
       "    <tr>\n",
       "      <th>0</th>\n",
       "      <td>64422</td>\n",
       "      <td>B000MIDROQ</td>\n",
       "      <td>A161DK06JJMCYF</td>\n",
       "      <td>J. E. Stephens \"Jeanne\"</td>\n",
       "      <td>3</td>\n",
       "      <td>1</td>\n",
       "      <td>5</td>\n",
       "      <td>1224892800</td>\n",
       "      <td>Bought This for My Son at College</td>\n",
       "      <td>My son loves spaghetti so I didn't hesitate or...</td>\n",
       "    </tr>\n",
       "    <tr>\n",
       "      <th>1</th>\n",
       "      <td>44737</td>\n",
       "      <td>B001EQ55RW</td>\n",
       "      <td>A2V0I904FH7ABY</td>\n",
       "      <td>Ram</td>\n",
       "      <td>3</td>\n",
       "      <td>2</td>\n",
       "      <td>4</td>\n",
       "      <td>1212883200</td>\n",
       "      <td>Pure cocoa taste with crunchy almonds inside</td>\n",
       "      <td>It was almost a 'love at first bite' - the per...</td>\n",
       "    </tr>\n",
       "  </tbody>\n",
       "</table>\n",
       "</div>"
      ],
      "text/plain": [
       "      Id   ProductId          UserId              ProfileName  \\\n",
       "0  64422  B000MIDROQ  A161DK06JJMCYF  J. E. Stephens \"Jeanne\"   \n",
       "1  44737  B001EQ55RW  A2V0I904FH7ABY                      Ram   \n",
       "\n",
       "   HelpfulnessNumerator  HelpfulnessDenominator  Score        Time  \\\n",
       "0                     3                       1      5  1224892800   \n",
       "1                     3                       2      4  1212883200   \n",
       "\n",
       "                                        Summary  \\\n",
       "0             Bought This for My Son at College   \n",
       "1  Pure cocoa taste with crunchy almonds inside   \n",
       "\n",
       "                                                Text  \n",
       "0  My son loves spaghetti so I didn't hesitate or...  \n",
       "1  It was almost a 'love at first bite' - the per...  "
      ]
     },
     "execution_count": 11,
     "metadata": {},
     "output_type": "execute_result"
    }
   ],
   "source": [
    "display= pd.read_sql_query(\"\"\"\n",
    "SELECT *\n",
    "FROM Reviews\n",
    "WHERE Score != 3 AND Id=44737 OR Id=64422\n",
    "ORDER BY ProductID\n",
    "\"\"\", con)\n",
    "\n",
    "display.head()"
   ]
  },
  {
   "cell_type": "code",
   "execution_count": 12,
   "metadata": {
    "colab": {},
    "colab_type": "code",
    "id": "f_185ozFJkj9"
   },
   "outputs": [],
   "source": [
    "final=final[final.HelpfulnessNumerator<=final.HelpfulnessDenominator]"
   ]
  },
  {
   "cell_type": "code",
   "execution_count": 13,
   "metadata": {
    "colab": {},
    "colab_type": "code",
    "id": "CofRySJyJkkC",
    "outputId": "a06c52f6-66a9-429b-8a5e-e20259f0bb21"
   },
   "outputs": [
    {
     "name": "stdout",
     "output_type": "stream",
     "text": [
      "(87773, 10)\n"
     ]
    },
    {
     "data": {
      "text/plain": [
       "1    73592\n",
       "0    14181\n",
       "Name: Score, dtype: int64"
      ]
     },
     "execution_count": 13,
     "metadata": {},
     "output_type": "execute_result"
    }
   ],
   "source": [
    "#Before starting the next phase of preprocessing lets see the number of entries left\n",
    "print(final.shape)\n",
    "\n",
    "#How many positive and negative reviews are present in our dataset?\n",
    "final['Score'].value_counts()"
   ]
  },
  {
   "cell_type": "markdown",
   "metadata": {
    "colab_type": "text",
    "id": "-fEWeywxJkkI"
   },
   "source": [
    "#  [3] Preprocessing"
   ]
  },
  {
   "cell_type": "markdown",
   "metadata": {
    "colab_type": "text",
    "id": "tzpbt9aOJkkJ"
   },
   "source": [
    "## [3.1].  Preprocessing Review Text\n",
    "\n",
    "Now that we have finished deduplication our data requires some preprocessing before we go on further with analysis and making the prediction model.\n",
    "\n",
    "Hence in the Preprocessing phase we do the following in the order below:-\n",
    "\n",
    "1. Begin by removing the html tags\n",
    "2. Remove any punctuations or limited set of special characters like , or . or # etc.\n",
    "3. Check if the word is made up of english letters and is not alpha-numeric\n",
    "4. Check to see if the length of the word is greater than 2 (as it was researched that there is no adjective in 2-letters)\n",
    "5. Convert the word to lowercase\n",
    "6. Remove Stopwords\n",
    "7. Finally Snowball Stemming the word (it was obsereved to be better than Porter Stemming)<br>\n",
    "\n",
    "After which we collect the words used to describe positive and negative reviews"
   ]
  },
  {
   "cell_type": "code",
   "execution_count": 14,
   "metadata": {
    "colab": {},
    "colab_type": "code",
    "id": "YqxBeLk8JkkL",
    "outputId": "1819632d-0129-4a13-d7ff-4e7bbf129dff"
   },
   "outputs": [
    {
     "name": "stdout",
     "output_type": "stream",
     "text": [
      "4\n",
      "I wish I'd read the reviews before making this purchase. It's basically a cardsotck box that is sticky all over the OUTSIDE. Those pink-ish things that look like entrances \"into\" the trap? They're just pictures. There *is no* inside of the trap. All the flies will be stuck to the OUTSIDE. It's basically fly paper, just horribly, horribly HORRIBLY overpriced.<br /><br />Do yourself a favor and just get fly paper or fly strips. Same yuck factor, but much cheaper.\n"
     ]
    }
   ],
   "source": [
    "#Natural-Text-pre-processing \n",
    "#finding the which sentence contains html tags\n",
    "\n",
    "import re\n",
    "\n",
    "i=0;\n",
    "for sent in final['Text'].values:\n",
    "    if (len(re.findall('<.*?>', sent))):\n",
    "        print(i)\n",
    "        print(sent)\n",
    "        break;\n",
    "    i += 1;\n"
   ]
  },
  {
   "cell_type": "code",
   "execution_count": 15,
   "metadata": {
    "colab": {},
    "colab_type": "code",
    "id": "lWiJ2_9gJkkP",
    "outputId": "08234806-3657-4d8f-c6d2-020dc9cda61c"
   },
   "outputs": [
    {
     "name": "stdout",
     "output_type": "stream",
     "text": [
      "[nltk_data] Downloading package stopwords to\n",
      "[nltk_data]     C:\\Users\\SatyaKrishna\\AppData\\Roaming\\nltk_data...\n",
      "[nltk_data]   Package stopwords is already up-to-date!\n"
     ]
    },
    {
     "data": {
      "text/plain": [
       "'delici'"
      ]
     },
     "execution_count": 15,
     "metadata": {},
     "output_type": "execute_result"
    }
   ],
   "source": [
    "import string\n",
    "from nltk.corpus import stopwords\n",
    "from nltk.stem import PorterStemmer\n",
    "from nltk.stem.wordnet import WordNetLemmatizer\n",
    "from nltk.stem.porter import PorterStemmer\n",
    "nltk.download('stopwords')\n",
    "\n",
    "def cleanhtml(sentence): #function to clean the word of any html-tags\n",
    "    cleanr = re.compile('<.*?>')\n",
    "    cleantext = re.sub(cleanr, ' ', sentence)\n",
    "    return cleantext\n",
    "\n",
    "def cleanpunc(sentence): #function to clean the word of any punctuation or special characters\n",
    "    cleaned = re.sub(r'[?|!|\\'|\"|#]',r'',sentence)\n",
    "    cleaned = re.sub(r'[.|,|)|(|\\|/]',r' ',cleaned)\n",
    "    return  cleaned\n",
    "\n",
    "stop = set(stopwords.words('english')) #set of stopwords\n",
    "\n",
    "sno = nltk.stem.SnowballStemmer('english') #initialising the snowball stemmer\n",
    "sno.stem('delicious')\n",
    "#stop\n"
   ]
  },
  {
   "cell_type": "code",
   "execution_count": 16,
   "metadata": {
    "colab": {},
    "colab_type": "code",
    "id": "cpLtZ-lAJkkR",
    "outputId": "7e0bf159-4db4-4ffe-d72e-6d5952d453f1"
   },
   "outputs": [
    {
     "name": "stderr",
     "output_type": "stream",
     "text": [
      "100%|███████████████████████████████████| 87773/87773 [02:50<00:00, 515.67it/s]\n"
     ]
    },
    {
     "name": "stdout",
     "output_type": "stream",
     "text": [
      "filtered sentences are stored successfully\n"
     ]
    }
   ],
   "source": [
    "import string\n",
    "from nltk.corpus import stopwords\n",
    "from nltk.stem import PorterStemmer\n",
    "from nltk.stem.wordnet import WordNetLemmatizer\n",
    "\n",
    "from tqdm import tqdm\n",
    "import os\n",
    "\n",
    "final_string=[] #creating a empty list for storing final preprocessed data\n",
    "cleanedtext_length=[]\n",
    "all_positive_words=[] # store words from +ve reviews here\n",
    "all_negative_words=[] # store words from -ve reviews here.\n",
    "for i, sent in enumerate(tqdm(final['Text'].values)):\n",
    "    filtered_sentence=[] #empty list for store after remove html and punc's and alfanumeric and words >2 and not in stop and converted to lowercase \n",
    "    sent=cleanhtml(sent) # remove HTMl tags\n",
    "    for w in sent.split():\n",
    "        # we have used cleanpunc(w).split(), one more split function here because consider w=\"abc.def\", cleanpunc(w) will return \"abc def\"\n",
    "        # if we dont use .split() function then we will be considring \"abc def\" as a single word, but if you use .split() function we will get \"abc\", \"def\"\n",
    "        for cleaned_words in cleanpunc(w).split():\n",
    "            if((cleaned_words.isalpha()) & (len(cleaned_words)>2)):    \n",
    "                if(cleaned_words.lower() not in stop):\n",
    "                    s=(sno.stem(cleaned_words.lower())).encode('utf8')\n",
    "                    filtered_sentence.append(s)# above steps are stored here \n",
    "                    if (final['Score'].values)[i] == 1: \n",
    "                        all_positive_words.append(s) #list of all words used to describe positive reviews stored with above \n",
    "                    if(final['Score'].values)[i] == 0:\n",
    "                        all_negative_words.append(s) #list of all words used to describe negative reviews reviews stored with above \n",
    "    str1 = b\" \".join(filtered_sentence) #final string of cleaned words stored in str1   \n",
    "    final_string.append(str1) #here str1 stored in final_string\n",
    "    cleanedtext_length.append(len(str1))\n",
    "print(\"filtered sentences are stored successfully\")\n"
   ]
  },
  {
   "cell_type": "code",
   "execution_count": 17,
   "metadata": {
    "colab": {},
    "colab_type": "code",
    "id": "HYBbtiCMJkkW"
   },
   "outputs": [
    {
     "name": "stdout",
     "output_type": "stream",
     "text": [
      "cleaned data is added successfully in cleaned text feature\n"
     ]
    },
    {
     "data": {
      "text/html": [
       "<div>\n",
       "<style scoped>\n",
       "    .dataframe tbody tr th:only-of-type {\n",
       "        vertical-align: middle;\n",
       "    }\n",
       "\n",
       "    .dataframe tbody tr th {\n",
       "        vertical-align: top;\n",
       "    }\n",
       "\n",
       "    .dataframe thead th {\n",
       "        text-align: right;\n",
       "    }\n",
       "</style>\n",
       "<table border=\"1\" class=\"dataframe\">\n",
       "  <thead>\n",
       "    <tr style=\"text-align: right;\">\n",
       "      <th></th>\n",
       "      <th>Id</th>\n",
       "      <th>ProductId</th>\n",
       "      <th>UserId</th>\n",
       "      <th>ProfileName</th>\n",
       "      <th>HelpfulnessNumerator</th>\n",
       "      <th>HelpfulnessDenominator</th>\n",
       "      <th>Score</th>\n",
       "      <th>Time</th>\n",
       "      <th>Summary</th>\n",
       "      <th>Text</th>\n",
       "      <th>CleanedText</th>\n",
       "      <th>cleanedText_length</th>\n",
       "    </tr>\n",
       "  </thead>\n",
       "  <tbody>\n",
       "    <tr>\n",
       "      <th>22620</th>\n",
       "      <td>24750</td>\n",
       "      <td>2734888454</td>\n",
       "      <td>A13ISQV0U9GZIC</td>\n",
       "      <td>Sandikaye</td>\n",
       "      <td>1</td>\n",
       "      <td>1</td>\n",
       "      <td>0</td>\n",
       "      <td>1192060800</td>\n",
       "      <td>made in china</td>\n",
       "      <td>My dogs loves this chicken but its a product f...</td>\n",
       "      <td>dog love chicken product china wont buy anymor...</td>\n",
       "      <td>149</td>\n",
       "    </tr>\n",
       "    <tr>\n",
       "      <th>22621</th>\n",
       "      <td>24751</td>\n",
       "      <td>2734888454</td>\n",
       "      <td>A1C298ITT645B6</td>\n",
       "      <td>Hugh G. Pritchard</td>\n",
       "      <td>0</td>\n",
       "      <td>0</td>\n",
       "      <td>1</td>\n",
       "      <td>1195948800</td>\n",
       "      <td>Dog Lover Delites</td>\n",
       "      <td>Our dogs just love them.  I saw them in a pet ...</td>\n",
       "      <td>dog love saw pet store tag attach regard made ...</td>\n",
       "      <td>64</td>\n",
       "    </tr>\n",
       "    <tr>\n",
       "      <th>70677</th>\n",
       "      <td>76870</td>\n",
       "      <td>B00002N8SM</td>\n",
       "      <td>A19Q006CSFT011</td>\n",
       "      <td>Arlielle</td>\n",
       "      <td>0</td>\n",
       "      <td>0</td>\n",
       "      <td>0</td>\n",
       "      <td>1288396800</td>\n",
       "      <td>only one fruitfly stuck</td>\n",
       "      <td>I had an infestation of fruitflies, they were ...</td>\n",
       "      <td>infest fruitfli liter everywher fli around kit...</td>\n",
       "      <td>357</td>\n",
       "    </tr>\n",
       "  </tbody>\n",
       "</table>\n",
       "</div>"
      ],
      "text/plain": [
       "          Id   ProductId          UserId        ProfileName  \\\n",
       "22620  24750  2734888454  A13ISQV0U9GZIC          Sandikaye   \n",
       "22621  24751  2734888454  A1C298ITT645B6  Hugh G. Pritchard   \n",
       "70677  76870  B00002N8SM  A19Q006CSFT011           Arlielle   \n",
       "\n",
       "       HelpfulnessNumerator  HelpfulnessDenominator  Score        Time  \\\n",
       "22620                     1                       1      0  1192060800   \n",
       "22621                     0                       0      1  1195948800   \n",
       "70677                     0                       0      0  1288396800   \n",
       "\n",
       "                       Summary  \\\n",
       "22620            made in china   \n",
       "22621        Dog Lover Delites   \n",
       "70677  only one fruitfly stuck   \n",
       "\n",
       "                                                    Text  \\\n",
       "22620  My dogs loves this chicken but its a product f...   \n",
       "22621  Our dogs just love them.  I saw them in a pet ...   \n",
       "70677  I had an infestation of fruitflies, they were ...   \n",
       "\n",
       "                                             CleanedText  cleanedText_length  \n",
       "22620  dog love chicken product china wont buy anymor...                 149  \n",
       "22621  dog love saw pet store tag attach regard made ...                  64  \n",
       "70677  infest fruitfli liter everywher fli around kit...                 357  "
      ]
     },
     "execution_count": 17,
     "metadata": {},
     "output_type": "execute_result"
    }
   ],
   "source": [
    "final['CleanedText']=final_string #adding a column of CleanedText which displays the data after pre-processing of the review \n",
    "final['CleanedText']=final['CleanedText'].str.decode(\"utf-8\")\n",
    "final['cleanedText_length']=cleanedtext_length#addingcolumn  a length of cleaned text\n",
    "print(\"cleaned data is added successfully in cleaned text feature\")\n",
    "final.shape\n",
    "final.head(3)\n",
    "#final.CleanedText.values[:50]"
   ]
  },
  {
   "cell_type": "code",
   "execution_count": null,
   "metadata": {},
   "outputs": [],
   "source": []
  },
  {
   "cell_type": "code",
   "execution_count": 18,
   "metadata": {
    "colab": {},
    "colab_type": "code",
    "id": "WPQSZurTJkkY",
    "outputId": "6d91fc9f-8f77-497c-95bb-96bfc9781196"
   },
   "outputs": [
    {
     "name": "stdout",
     "output_type": "stream",
     "text": [
      "Most Common Positive Words in review :  [(b'like', 35242), (b'tast', 30840), (b'good', 27671), (b'flavor', 26981), (b'love', 26733), (b'great', 25050), (b'one', 23767), (b'use', 22755), (b'tri', 21157), (b'product', 20972), (b'coffe', 20647), (b'tea', 19247), (b'food', 18115), (b'get', 17728), (b'make', 17278), (b'dog', 14274), (b'would', 13929), (b'eat', 13453), (b'time', 12997), (b'realli', 12951)]\n",
      "----------------------------------------------------------------------------------------------------\n",
      "Most Common Negative Words in review:  [(b'tast', 8828), (b'like', 8406), (b'product', 6907), (b'one', 5184), (b'flavor', 4936), (b'would', 4561), (b'tri', 4539), (b'coffe', 3871), (b'good', 3846), (b'use', 3690), (b'food', 3625), (b'get', 3456), (b'buy', 3385), (b'dog', 3214), (b'dont', 3017), (b'order', 3009), (b'tea', 2865), (b'even', 2835), (b'eat', 2693), (b'box', 2677)]\n"
     ]
    }
   ],
   "source": [
    "#all the filtered sentences and positive and negative reviews with bytes foramt for faster processing \n",
    "# are stored in final_string\n",
    "#Now most common positive words and negitive words\n",
    "\n",
    "freq_dist_positive=nltk.FreqDist(all_positive_words)\n",
    "freq_dist_negative=nltk.FreqDist(all_negative_words)\n",
    "print(\"Most Common Positive Words in review : \",freq_dist_positive.most_common(20))\n",
    "print('-' *100)\n",
    "print(\"Most Common Negative Words in review: \",freq_dist_negative.most_common(20))"
   ]
  },
  {
   "cell_type": "markdown",
   "metadata": {
    "colab_type": "text",
    "id": "zak5yP5zJkkt"
   },
   "source": [
    "<h2><font color='red'>[3.2] Preprocessing Review Summary</font></h2>"
   ]
  },
  {
   "cell_type": "code",
   "execution_count": 19,
   "metadata": {
    "colab": {},
    "colab_type": "code",
    "id": "wZ3Epk1wJkku"
   },
   "outputs": [
    {
     "name": "stdout",
     "output_type": "stream",
     "text": [
      "There is no html tags\n",
      "--------------------------------------------------\n"
     ]
    },
    {
     "data": {
      "text/plain": [
       "22620                              made in china\n",
       "22621                          Dog Lover Delites\n",
       "70677                    only one fruitfly stuck\n",
       "70676    Doesn't work!! Don't waste your money!!\n",
       "70675                              A big rip off\n",
       "70673     THIS ITEM IS EXCELLENT TO KILL INSECTS\n",
       "70672                                Didn't work\n",
       "70671                        Gross but effective\n",
       "70670                        Didn't work for me.\n",
       "70669                             Waste of money\n",
       "Name: Summary, dtype: object"
      ]
     },
     "execution_count": 19,
     "metadata": {},
     "output_type": "execute_result"
    }
   ],
   "source": [
    "## Similartly you can do preprocessing for review summary also.\n",
    "## Similartly you can do preprocessing for review summary also.\n",
    "#finding html tags in summary text \n",
    "\n",
    "j=0;\n",
    "for summary in final['Summary'].values:\n",
    "    if (len(re.findall('<.*?>', summary))):\n",
    "        print(j)\n",
    "        print(summary)\n",
    "    else:\n",
    "        print(\"There is no html tags\")\n",
    "        print('-'*50)\n",
    "        break;\n",
    "    j += 1;\n",
    "final[\"Summary\"].head(10)"
   ]
  },
  {
   "cell_type": "code",
   "execution_count": 20,
   "metadata": {},
   "outputs": [
    {
     "data": {
      "text/plain": [
       "'wow'"
      ]
     },
     "execution_count": 20,
     "metadata": {},
     "output_type": "execute_result"
    }
   ],
   "source": [
    "#removing if any html tags and punctuations in summary feature\n",
    "#observed there is no html tags in summary attribute \n",
    "\n",
    "#def cleanhtml(s_sentence): #function to clean the word of any html-tags\n",
    "#    s_cleanr = re.compile('<.*?>')\n",
    "#    s_cleantext = re.sub(s_cleanr, ' ', s_sentence)\n",
    "#    return s_cleantext\n",
    "\n",
    "def cleanpunc(s_sentence): #function to clean the word of any punctuation or special characters\n",
    "    s_cleaned = re.sub(r'[?|!|\\'|\"|#]',r'',s_sentence)\n",
    "    s_cleaned = re.sub(r'[.|,|)|(|\\|/]',r' ',s_cleaned)\n",
    "    return  s_cleaned\n",
    "\n",
    "s_stop = set(stopwords.words('english')) #set of stopwords\n",
    "\n",
    "s_sno = nltk.stem.SnowballStemmer('english') #initialising the snowball stemmer\n",
    "s_sno.stem('wow')"
   ]
  },
  {
   "cell_type": "code",
   "execution_count": 21,
   "metadata": {},
   "outputs": [
    {
     "name": "stderr",
     "output_type": "stream",
     "text": [
      "100%|██████████████████████████████████| 87773/87773 [00:11<00:00, 7820.28it/s]\n"
     ]
    },
    {
     "name": "stdout",
     "output_type": "stream",
     "text": [
      "filtered summary are stored successfully in summary_final_string\n"
     ]
    },
    {
     "data": {
      "text/plain": [
       "87773"
      ]
     },
     "execution_count": 21,
     "metadata": {},
     "output_type": "execute_result"
    }
   ],
   "source": [
    "summary_final_string=[] #creating a empty list for storing final preprocessed data\n",
    "summary_length=[]\n",
    "summary_all_positive_words=[] # store words from +ve summary here\n",
    "summary_all_negative_words=[] # store words from -ve summary here.\n",
    "for j, summary_sent in enumerate(tqdm(final['Summary'].values)):\n",
    "    summary_filtered_sentence=[] #empty list for store after remove  punc's and alphanumeric and words >2 and not in stop and converted to lowercase \n",
    "    #summary_sent=cleanhtml(summary_sent) # remove HTMl tags\n",
    "    for s_w in summary_sent.split():\n",
    "        for s_cleaned_words in cleanpunc(s_w).split():\n",
    "            if((s_cleaned_words.isalpha()) & (len(s_cleaned_words)>2)):    \n",
    "                if(s_cleaned_words.lower() not in s_stop):\n",
    "                    s_s=(s_sno.stem(s_cleaned_words.lower())).encode('utf8')\n",
    "                    summary_filtered_sentence.append(s_s)# above steps are stored here \n",
    "                    if (final['Score'].values)[j] == 1: \n",
    "                        summary_all_positive_words.append(s_s) #list of all words used to describe positive summary stored with above \n",
    "                    if(final['Score'].values)[j] == 0:\n",
    "                        summary_all_negative_words.append(s_s) #list of all words used to describe negative summary reviews stored with above \n",
    "    s_str1 = b''.join(summary_filtered_sentence) #final string of cleaned words stored in s_str1   \n",
    "    summary_final_string.append(s_str1) #here s_str1 stored in summary_final_string\n",
    "    summary_length.append(len(s_str1))\n",
    "print(\"filtered summary are stored successfully in summary_final_string\")\n",
    "len(summary_final_string)"
   ]
  },
  {
   "cell_type": "code",
   "execution_count": 22,
   "metadata": {},
   "outputs": [
    {
     "name": "stdout",
     "output_type": "stream",
     "text": [
      "Most Common Positive Words in summary :  [(b'great', 11454), (b'good', 7357), (b'love', 5977), (b'best', 5254), (b'tast', 3462), (b'coffe', 3401), (b'tea', 3154), (b'delici', 3094), (b'dog', 3090), (b'product', 2722)]\n",
      "----------------------------------------------------------------------------------------------------\n",
      "Most Common Negative Words in summary :  [(b'tast', 1075), (b'like', 667), (b'good', 659), (b'disappoint', 453), (b'flavor', 431), (b'product', 429), (b'bad', 420), (b'dog', 413), (b'coffe', 399), (b'dont', 355)]\n"
     ]
    }
   ],
   "source": [
    "s_freq_dist_positive=nltk.FreqDist(summary_all_positive_words)\n",
    "s_freq_dist_negative=nltk.FreqDist(summary_all_negative_words)\n",
    "print(\"Most Common Positive Words in summary : \",s_freq_dist_positive.most_common(10))\n",
    "print('-' *100)\n",
    "print(\"Most Common Negative Words in summary : \",s_freq_dist_negative.most_common(10))"
   ]
  },
  {
   "cell_type": "code",
   "execution_count": 23,
   "metadata": {},
   "outputs": [
    {
     "data": {
      "text/html": [
       "<div>\n",
       "<style scoped>\n",
       "    .dataframe tbody tr th:only-of-type {\n",
       "        vertical-align: middle;\n",
       "    }\n",
       "\n",
       "    .dataframe tbody tr th {\n",
       "        vertical-align: top;\n",
       "    }\n",
       "\n",
       "    .dataframe thead th {\n",
       "        text-align: right;\n",
       "    }\n",
       "</style>\n",
       "<table border=\"1\" class=\"dataframe\">\n",
       "  <thead>\n",
       "    <tr style=\"text-align: right;\">\n",
       "      <th></th>\n",
       "      <th>Id</th>\n",
       "      <th>ProductId</th>\n",
       "      <th>UserId</th>\n",
       "      <th>ProfileName</th>\n",
       "      <th>HelpfulnessNumerator</th>\n",
       "      <th>HelpfulnessDenominator</th>\n",
       "      <th>Score</th>\n",
       "      <th>Time</th>\n",
       "      <th>Summary</th>\n",
       "      <th>Text</th>\n",
       "      <th>CleanedText</th>\n",
       "      <th>cleanedText_length</th>\n",
       "      <th>Cleanedsummary</th>\n",
       "      <th>Cleanedsummary_len</th>\n",
       "    </tr>\n",
       "  </thead>\n",
       "  <tbody>\n",
       "    <tr>\n",
       "      <th>22620</th>\n",
       "      <td>24750</td>\n",
       "      <td>2734888454</td>\n",
       "      <td>A13ISQV0U9GZIC</td>\n",
       "      <td>Sandikaye</td>\n",
       "      <td>1</td>\n",
       "      <td>1</td>\n",
       "      <td>0</td>\n",
       "      <td>1192060800</td>\n",
       "      <td>made in china</td>\n",
       "      <td>My dogs loves this chicken but its a product f...</td>\n",
       "      <td>dog love chicken product china wont buy anymor...</td>\n",
       "      <td>149</td>\n",
       "      <td>b'madechina'</td>\n",
       "      <td>9</td>\n",
       "    </tr>\n",
       "  </tbody>\n",
       "</table>\n",
       "</div>"
      ],
      "text/plain": [
       "          Id   ProductId          UserId ProfileName  HelpfulnessNumerator  \\\n",
       "22620  24750  2734888454  A13ISQV0U9GZIC   Sandikaye                     1   \n",
       "\n",
       "       HelpfulnessDenominator  Score        Time        Summary  \\\n",
       "22620                       1      0  1192060800  made in china   \n",
       "\n",
       "                                                    Text  \\\n",
       "22620  My dogs loves this chicken but its a product f...   \n",
       "\n",
       "                                             CleanedText  cleanedText_length  \\\n",
       "22620  dog love chicken product china wont buy anymor...                 149   \n",
       "\n",
       "      Cleanedsummary  Cleanedsummary_len  \n",
       "22620   b'madechina'                   9  "
      ]
     },
     "execution_count": 23,
     "metadata": {},
     "output_type": "execute_result"
    }
   ],
   "source": [
    "final['Cleanedsummary']=summary_final_string\n",
    "final['Cleanedsummary_len']=summary_length\n",
    "final[0:1]"
   ]
  },
  {
   "cell_type": "code",
   "execution_count": 24,
   "metadata": {},
   "outputs": [
    {
     "name": "stdout",
     "output_type": "stream",
     "text": [
      "1    73592\n",
      "0    14181\n",
      "Name: Score, dtype: int64\n",
      "(87773,)\n"
     ]
    }
   ],
   "source": [
    "print(final['Score'].value_counts())\n",
    "print(final['Score'].shape)"
   ]
  },
  {
   "cell_type": "markdown",
   "metadata": {},
   "source": [
    "<h3>Feature_Engineering</h3>"
   ]
  },
  {
   "cell_type": "code",
   "execution_count": 25,
   "metadata": {},
   "outputs": [
    {
     "data": {
      "text/html": [
       "<div>\n",
       "<style scoped>\n",
       "    .dataframe tbody tr th:only-of-type {\n",
       "        vertical-align: middle;\n",
       "    }\n",
       "\n",
       "    .dataframe tbody tr th {\n",
       "        vertical-align: top;\n",
       "    }\n",
       "\n",
       "    .dataframe thead th {\n",
       "        text-align: right;\n",
       "    }\n",
       "</style>\n",
       "<table border=\"1\" class=\"dataframe\">\n",
       "  <thead>\n",
       "    <tr style=\"text-align: right;\">\n",
       "      <th></th>\n",
       "      <th>CleanedText</th>\n",
       "      <th>cleanedText_length</th>\n",
       "      <th>Cleanedsummary</th>\n",
       "      <th>Cleanedsummary_len</th>\n",
       "      <th>cleaned_&amp;_summary</th>\n",
       "    </tr>\n",
       "  </thead>\n",
       "  <tbody>\n",
       "    <tr>\n",
       "      <th>22620</th>\n",
       "      <td>dog love chicken product china wont buy anymor...</td>\n",
       "      <td>149</td>\n",
       "      <td>b'madechina'</td>\n",
       "      <td>9</td>\n",
       "      <td>dog love chicken product china wont buy anymor...</td>\n",
       "    </tr>\n",
       "    <tr>\n",
       "      <th>22621</th>\n",
       "      <td>dog love saw pet store tag attach regard made ...</td>\n",
       "      <td>64</td>\n",
       "      <td>b'dogloverdelit'</td>\n",
       "      <td>13</td>\n",
       "      <td>dog love saw pet store tag attach regard made ...</td>\n",
       "    </tr>\n",
       "    <tr>\n",
       "      <th>70677</th>\n",
       "      <td>infest fruitfli liter everywher fli around kit...</td>\n",
       "      <td>357</td>\n",
       "      <td>b'onefruitflistuck'</td>\n",
       "      <td>16</td>\n",
       "      <td>infest fruitfli liter everywher fli around kit...</td>\n",
       "    </tr>\n",
       "  </tbody>\n",
       "</table>\n",
       "</div>"
      ],
      "text/plain": [
       "                                             CleanedText  cleanedText_length  \\\n",
       "22620  dog love chicken product china wont buy anymor...                 149   \n",
       "22621  dog love saw pet store tag attach regard made ...                  64   \n",
       "70677  infest fruitfli liter everywher fli around kit...                 357   \n",
       "\n",
       "            Cleanedsummary  Cleanedsummary_len  \\\n",
       "22620         b'madechina'                   9   \n",
       "22621     b'dogloverdelit'                  13   \n",
       "70677  b'onefruitflistuck'                  16   \n",
       "\n",
       "                                       cleaned_&_summary  \n",
       "22620  dog love chicken product china wont buy anymor...  \n",
       "22621  dog love saw pet store tag attach regard made ...  \n",
       "70677  infest fruitfli liter everywher fli around kit...  "
      ]
     },
     "execution_count": 25,
     "metadata": {},
     "output_type": "execute_result"
    }
   ],
   "source": [
    "#here combining both cleaned summary text and cleaned review text and cleaned text length for getting better results \n",
    "final['cleaned_&_summary'] = final['CleanedText'] + final['Cleanedsummary'].map(str)\n",
    "fea_x=final['cleaned_&_summary'] + final['cleanedText_length'].map(str)\n",
    "final.iloc[:,10:15].head(3)"
   ]
  },
  {
   "cell_type": "markdown",
   "metadata": {},
   "source": [
    "Apply feature engineering for cleaned text , summary text and length of cleaned text,  merging this cleaned  text ,cleaned summary and length of cleaned text into cleaned_&_summary feature,which contains cleaned text and its length and cleaned summary "
   ]
  },
  {
   "cell_type": "code",
   "execution_count": 26,
   "metadata": {},
   "outputs": [
    {
     "name": "stdout",
     "output_type": "stream",
     "text": [
      "Data splitted sucessfully in to train ,test,cv\n"
     ]
    }
   ],
   "source": [
    "x=fea_x\n",
    "y=final['Score']\n",
    "\n",
    "#splitting the cleaned text and score to train, cv,test\n",
    "from sklearn import model_selection\n",
    "from sklearn.model_selection import train_test_split\n",
    "\n",
    "#here we splitting the whole data to train test and cv\n",
    "\n",
    "#splitted the data in to train and test\n",
    "x_train,x_test_data,y_train,y_test_data = train_test_split(x, y, test_size=0.3, random_state=0)\n",
    "#splitted the above train data into 2nd train and cross validation \n",
    "x_train_data,x_cv_data,y_train_data,y_cv_data = train_test_split(x_train, y_train, test_size=0.3, random_state=0)\n",
    "\n",
    "print(\"Data splitted sucessfully in to train ,test,cv\")"
   ]
  },
  {
   "cell_type": "markdown",
   "metadata": {
    "colab_type": "text",
    "id": "ChHwtw1iJkky"
   },
   "source": [
    "# [4] Featurization"
   ]
  },
  {
   "cell_type": "markdown",
   "metadata": {
    "colab_type": "text",
    "id": "qyWESNvzJkky"
   },
   "source": [
    "## [4.1] BAG OF WORDS"
   ]
  },
  {
   "cell_type": "code",
   "execution_count": 27,
   "metadata": {
    "colab": {},
    "colab_type": "code",
    "id": "zS0niozAJkkz",
    "outputId": "e2a25e5d-2e1a-497a-f094-a7e249201001"
   },
   "outputs": [
    {
     "name": "stdout",
     "output_type": "stream",
     "text": [
      "the type of count vectorizer  <class 'scipy.sparse.csr.csr_matrix'>\n",
      "the shape of out text BOW vectorizer  (43008, 57624)\n",
      "the number of unique words  57624\n",
      "--------------------------------------------------\n",
      "--------------------------------------------------\n",
      "(43008, 57624) (43008,)\n",
      "(26332, 57624) (26332,)\n",
      "(18433, 57624) (18433,)\n",
      "Bow splitted data\n",
      " final_bow_train_data,y_train_data\n",
      " final_bow_test_data,y_test_data\n",
      " final_bow_cv_data,y_cv_data\n",
      "\n"
     ]
    }
   ],
   "source": [
    "#APPLYING_BOW ON TRAIN DATA \n",
    "\n",
    "from sklearn.feature_extraction.text import CountVectorizer\n",
    "from sklearn.model_selection import train_test_split\n",
    "\n",
    "count_vect = CountVectorizer() #in scikit-learn\n",
    "final_counts_bow_train = count_vect.fit_transform(x_train_data)\n",
    "final_bow_train_data=final_counts_bow_train\n",
    "#transform  on testdata\n",
    "final_bow_test_data = count_vect.transform(x_test_data)\n",
    "#transform on cv data \n",
    "final_bow_cv_data = count_vect.transform(x_cv_data)\n",
    "\n",
    "print(\"the type of count vectorizer \",type(final_bow_train_data))\n",
    "print(\"the shape of out text BOW vectorizer \",final_bow_train_data.get_shape())\n",
    "print(\"the number of unique words \", final_bow_train_data.get_shape()[1])\n",
    "#dense_bow=final_bow_train_data.todense()\n",
    "print('-' * 50 )\n",
    "print('-' * 50 )\n",
    "#print(\"the type of count vectorizer \",type(dense_bow))\n",
    "\n",
    "print(final_bow_train_data.shape,y_train_data.shape)\n",
    "print(final_bow_test_data.shape,y_test_data.shape)\n",
    "print(final_bow_cv_data.shape,y_cv_data.shape)\n",
    "print(\"Bow splitted data\\n\", \"final_bow_train_data,y_train_data\\n\",\"final_bow_test_data,y_test_data\\n\",\"final_bow_cv_data,y_cv_data\\n\")\n"
   ]
  },
  {
   "cell_type": "markdown",
   "metadata": {
    "colab_type": "text",
    "id": "1fvAmu91Jkk6"
   },
   "source": [
    "## [4.3] TF-IDF"
   ]
  },
  {
   "cell_type": "code",
   "execution_count": 28,
   "metadata": {},
   "outputs": [
    {
     "name": "stdout",
     "output_type": "stream",
     "text": [
      "the type of count vectorizer  <class 'scipy.sparse.csr.csr_matrix'>\n",
      "the shape of out text TFIDF vectorizer  (43008, 822825)\n",
      "the number of unique words including both unigrams and bigrams  822825\n",
      "(43008, 822825) (43008,)\n",
      "(26332, 822825) (26332,)\n",
      "(18433, 822825) (18433,)\n",
      "Bow splitted data\n",
      " final_tfidf_train_data,y_train_data\n",
      " final_tfidf_test_data,y_test_data\n",
      " final_tfidf_cv_data,y_cv_data\n",
      "\n"
     ]
    }
   ],
   "source": [
    "#TFIDF VECTORIZER\n",
    "from sklearn.feature_extraction.text import TfidfTransformer\n",
    "from sklearn.feature_extraction.text import TfidfVectorizer\n",
    "\n",
    "tf_idf_vect = TfidfVectorizer(ngram_range=(1,2))\n",
    "final_tfidf_train_data = tf_idf_vect.fit_transform(x_train_data)\n",
    "final_tfidf_test_data = tf_idf_vect.transform(x_test_data)\n",
    "final_tfidf_cv_data = tf_idf_vect.transform(x_cv_data)\n",
    "print(\"the type of count vectorizer \",type(final_tfidf_train_data))\n",
    "print(\"the shape of out text TFIDF vectorizer \",final_tfidf_train_data.get_shape())\n",
    "print(\"the number of unique words including both unigrams and bigrams \", final_tfidf_train_data.get_shape()[1])\n",
    "#tfidf_dense=final_tfidf_train_data.todense()\n",
    "#print('-' * 50 )\n",
    "#print(\"here below  we converting scipy to dense \")\n",
    "#print('-' * 50 )\n",
    "#print(\"the type of count vectorizer \",type(tfidf_dense))\n",
    "print(final_tfidf_train_data.shape,y_train_data.shape)\n",
    "print(final_tfidf_test_data.shape,y_test_data.shape)\n",
    "print(final_tfidf_cv_data.shape,y_cv_data.shape)\n",
    "print(\"Bow splitted data\\n\", \"final_tfidf_train_data,y_train_data\\n\",\"final_tfidf_test_data,y_test_data\\n\",\"final_tfidf_cv_data,y_cv_data\\n\")"
   ]
  },
  {
   "cell_type": "markdown",
   "metadata": {
    "colab_type": "text",
    "id": "ZFN0k_hEJklb"
   },
   "source": [
    "# [5] Assignment 4: Apply Naive Bayes"
   ]
  },
  {
   "cell_type": "markdown",
   "metadata": {
    "colab_type": "text",
    "id": "O1ABSoejJklc"
   },
   "source": [
    "<ol>\n",
    "    <li><strong>Apply Multinomial NaiveBayes on these feature sets</strong>\n",
    "        <ul>\n",
    "            <li><font color='red'>SET 1:</font>Review text, preprocessed one converted into vectors using (BOW)</li>\n",
    "            <li><font color='red'>SET 2:</font>Review text, preprocessed one converted into vectors using (TFIDF)</li>\n",
    "        </ul>\n",
    "    </li>\n",
    "    <br>\n",
    "    <li><strong>The hyper paramter tuning(find best Alpha)</strong>\n",
    "        <ul>\n",
    "    <li>Find the best hyper parameter which will give the maximum <a href='https://www.appliedaicourse.com/course/applied-ai-course-online/lessons/receiver-operating-characteristic-curve-roc-curve-and-auc-1/'>AUC</a> value</li>\n",
    "    <li>Consider a wide range of alpha values for hyperparameter tuning, start as low as 0.00001</li>\n",
    "    <li>Find the best hyper paramter using k-fold cross validation or simple cross validation data</li>\n",
    "    <li>Use gridsearch cv or randomsearch cv or you can also write your own for loops to do this task of hyperparameter tuning</li>\n",
    "        </ul>\n",
    "    </li>\n",
    "    <br>\n",
    "    <li><strong>Feature importance</strong>\n",
    "        <ul>\n",
    "    <li>Find the top 10 features of positive class and top 10 features of negative class for both feature sets <font color='red'>Set 1</font> and <font color='red'>Set 2</font> using values of `feature_log_prob_` parameter of  <a href='https://scikit-learn.org/stable/modules/generated/sklearn.naive_bayes.MultinomialNB.html'>MultinomialNB</a> and print their corresponding feature names</li>\n",
    "        </ul>\n",
    "    </li>\n",
    "    <br>\n",
    "    <li><strong>Feature engineering</strong>\n",
    "        <ul>\n",
    "    <li>To increase the performance of your model, you can also experiment with with feature engineering like :</li>\n",
    "            <ul>\n",
    "            <li>Taking length of reviews as another feature.</li>\n",
    "            <li>Considering some features from review summary as well.</li>\n",
    "        </ul>\n",
    "        </ul>\n",
    "    </li>\n",
    "    <br>\n",
    "    <li><strong>Representation of results</strong>\n",
    "        <ul>\n",
    "    <li>You need to plot the performance of model both on train data and cross validation data for each hyper parameter, like shown in the figure. Here on X-axis you will have alpha values, since they have a wide range, just to represent those alpha values on the graph, apply log function on those alpha values.\n",
    "    <img src='train_cv_auc.JPG' width=300px></li>\n",
    "    <li>Once after you found the best hyper parameter, you need to train your model with it, and find the AUC on test data and plot the ROC curve on both train and test.\n",
    "    <img src='train_test_auc.JPG' width=300px></li>\n",
    "    <li>Along with plotting ROC curve, you need to print the <a href='https://www.appliedaicourse.com/course/applied-ai-course-online/lessons/confusion-matrix-tpr-fpr-fnr-tnr-1/'>confusion matrix</a> with predicted and original labels of test data points. Please visualize your confusion matrices using <a href='https://seaborn.pydata.org/generated/seaborn.heatmap.html'>seaborn heatmaps.\n",
    "    <img src='confusion_matrix.png' width=300px></li>\n",
    "        </ul>\n",
    "    </li>\n",
    "    <br>\n",
    "    <li><strong>Conclusion</strong>\n",
    "        <ul>\n",
    "    <li>You need to summarize the results at the end of the notebook, summarize it in the table format. To print out a table please refer to this prettytable library<a href='http://zetcode.com/python/prettytable/'>  link</a> \n",
    "        <img src='summary.JPG' width=400px>\n",
    "    </li>\n",
    "        </ul>\n",
    "</ol>"
   ]
  },
  {
   "cell_type": "markdown",
   "metadata": {
    "colab_type": "text",
    "id": "YawkDx8TJklc"
   },
   "source": [
    "<h4><font color='red'>Note: Data Leakage</font></h4>\n",
    "\n",
    "1. There will be an issue of data-leakage if you vectorize the entire data and then split it into train/cv/test.\n",
    "2. To avoid the issue of data-leakag, make sure to split your data first and then vectorize it. \n",
    "3. While vectorizing your data, apply the method fit_transform() on you train data, and apply the method transform() on cv/test data.\n",
    "4. For more details please go through this <a href='https://soundcloud.com/applied-ai-course/leakage-bow-and-tfidf'>link.</a>"
   ]
  },
  {
   "cell_type": "markdown",
   "metadata": {
    "colab_type": "text",
    "id": "RGRFxjhgJklc"
   },
   "source": [
    "# Applying Multinomial Naive Bayes"
   ]
  },
  {
   "cell_type": "markdown",
   "metadata": {
    "colab_type": "text",
    "id": "FxGKHpZlJkle"
   },
   "source": [
    "## [5.1] Applying Naive Bayes on BOW,<font color='red'> SET 1</font>"
   ]
  },
  {
   "cell_type": "code",
   "execution_count": 29,
   "metadata": {
    "colab": {},
    "colab_type": "code",
    "id": "UR0f8SfZJkle",
    "scrolled": true
   },
   "outputs": [
    {
     "name": "stdout",
     "output_type": "stream",
     "text": [
      "alpha= 1e-05 cv: 0.8430379413648734 train: 0.9986110167686935\n",
      "alpha= 0.0001 cv: 0.8611073029363572 train: 0.9982608475526227\n",
      "alpha= 0.001 cv: 0.8817703854212011 train: 0.9974203000520665\n",
      "alpha= 0.01 cv: 0.9028044386875753 train: 0.9951725081385474\n",
      "alpha= 0.1 cv: 0.9197313367732984 train: 0.9882768900638952\n",
      "alpha= 1 cv: 0.9039988489211179 train: 0.9580278547787425\n",
      "alpha= 10 cv: 0.6701492000842295 train: 0.6856253281799731\n",
      "alpha= 100 cv: 0.5546246098187648 train: 0.54882096111948\n",
      "alpha= 1000 cv: 0.5357074335276277 train: 0.5295261172020331\n",
      "alpha= 10000 cv: 0.5298396961187142 train: 0.5229602054730468\n",
      "alpha= 100000 cv: 0.5277199436581835 train: 0.5202934489748463\n"
     ]
    }
   ],
   "source": [
    "# Please write all the code with proper documentation\n",
    "#finding the best hyper parameter  using simple loop method \n",
    "# Reference ,code re-using from sample solution ipynb\n",
    "from sklearn.naive_bayes import MultinomialNB\n",
    "from sklearn import metrics\n",
    "from sklearn.metrics import roc_auc_score\n",
    "import numpy as np\n",
    "train_auc = []\n",
    "cv_auc = []\n",
    "alpha = [0.00001,0.0001,0.001,0.01,0.1,1,10,100,1000,10000,100000]\n",
    "for i in alpha:\n",
    "    nb_bow = MultinomialNB(alpha=i)\n",
    "    nb_bow.fit(final_bow_train_data, y_train_data)\n",
    "    # roc_auc_score(y_true, y_score) the 2nd parameter should be probability estimates of the positive class\n",
    "    # not the predicted outputs\n",
    "    y_train_pred =  nb_bow.predict_proba(final_bow_train_data)[:,1]\n",
    "    y_cv_pred =  nb_bow.predict_proba(final_bow_cv_data)[:,1]\n",
    "    train_auc_score=roc_auc_score(y_train_data,y_train_pred)\n",
    "    train_auc.append(train_auc_score)\n",
    "    cv_auc_score=roc_auc_score(y_cv_data, y_cv_pred)\n",
    "    cv_auc.append(cv_auc_score)\n",
    "    print(\"alpha=\",i,\"cv:\",cv_auc_score,\"train:\",train_auc_score)"
   ]
  },
  {
   "cell_type": "markdown",
   "metadata": {},
   "source": [
    "We got optimal alpha as 0.1 "
   ]
  },
  {
   "cell_type": "code",
   "execution_count": 66,
   "metadata": {},
   "outputs": [
    {
     "data": {
      "image/png": "[encoded data removed]",
      "text/plain": [
       "<Figure size 432x288 with 1 Axes>"
      ]
     },
     "metadata": {},
     "output_type": "display_data"
    }
   ],
   "source": [
    "#plotting the results \n",
    "\n",
    "import math\n",
    "\n",
    "#https://stackoverflow.com/questions/11656767/how-to-take-the-log-of-all-elements-of-a-list\n",
    "alpha = [0.00001,0.0001,0.001,0.01,0.1,1,10,100,1000,10000,100000]\n",
    "log_alpha = [math.log10(num) for num in alpha]\n",
    "\n",
    "plt.plot(log_alpha, train_auc, label='Train AUC')\n",
    "plt.plot(log_alpha, cv_auc, label='CV AUC')\n",
    "plt.legend()\n",
    "plt.xlabel(\"log_alpha\")\n",
    "plt.ylabel(\"AUC\")\n",
    "plt.title(\"AUC vs alpha\")\n",
    "plt.show()"
   ]
  },
  {
   "cell_type": "code",
   "execution_count": 31,
   "metadata": {},
   "outputs": [
    {
     "data": {
      "image/png": "[encoded data removed]",
      "text/plain": [
       "<Figure size 432x288 with 1 Axes>"
      ]
     },
     "metadata": {},
     "output_type": "display_data"
    }
   ],
   "source": [
    "#performing the nb with optimal alpha for bow vectorizer \n",
    "from sklearn.metrics import roc_curve, auc\n",
    "\n",
    "nb_bow = MultinomialNB(alpha=0.1)\n",
    "nb_bow.fit(final_bow_train_data, y_train_data)\n",
    "\n",
    "\n",
    "bow_train_fpr, bow_train_tpr, bow_thresholds = roc_curve(y_train_data, nb_bow.predict_proba(final_bow_train_data)[:,1])\n",
    "bow_test_fpr, bow_test_tpr, bow_thresholds = roc_curve(y_test_data, nb_bow.predict_proba(final_bow_test_data)[:,1])\n",
    "\n",
    "plt.plot(bow_train_fpr, bow_train_tpr, label=\"train AUC =\"+str(auc(bow_train_fpr, bow_train_tpr)))\n",
    "plt.plot(bow_test_fpr, bow_test_tpr, label=\"test AUC =\"+str(auc(bow_test_fpr, bow_test_tpr)))\n",
    "plt.legend()\n",
    "plt.xlabel(\"alpha\")\n",
    "plt.ylabel(\"AUC\")\n",
    "plt.title(\"ROC CURVES ON TRAIN AND TEST \")\n",
    "plt.show()"
   ]
  },
  {
   "cell_type": "markdown",
   "metadata": {},
   "source": [
    "we get test auc is 0.92"
   ]
  },
  {
   "cell_type": "markdown",
   "metadata": {
    "colab_type": "text",
    "id": "u-ZSD3tlJklg"
   },
   "source": [
    "### [5.1.1] Top 10 important features of positive class from<font color='red'> SET 1</font>"
   ]
  },
  {
   "cell_type": "code",
   "execution_count": 32,
   "metadata": {
    "colab": {},
    "colab_type": "code",
    "id": "86fu_aO8Jklg"
   },
   "outputs": [
    {
     "name": "stdout",
     "output_type": "stream",
     "text": [
      "Max bow feature_log_probability's -4.2964636299691765 \n",
      "\n",
      "horizantal column's (2, 57624) \n",
      "\n",
      "vertical column's (57624, 2) \n",
      "\n",
      "Top 10 positive features from bow vectorizer:-\n",
      " like     -4.445276\n",
      "tast     -4.577882\n",
      "good     -4.688557\n",
      "love     -4.717112\n",
      "flavor   -4.726892\n",
      "great    -4.784941\n",
      "one      -4.856019\n",
      "use      -4.886294\n",
      "tri      -4.985867\n",
      "coffe    -4.997863\n",
      "Name: 1, dtype: float64\n"
     ]
    }
   ],
   "source": [
    "# Please write all the code with proper documentation\n",
    "#https://www.kaggle.com/premvardhan/amazon-fine-food-reviews-analysis-naive-bayes\n",
    "#first we get a features names here by using count vectorizer  \n",
    "#https://scikit-learn.org/stable/modules/generated/sklearn.feature_extraction.text.CountVectorizer.html\n",
    "bow_feature_names=count_vect.get_feature_names()\n",
    "\n",
    "#here we get a features in horizantal list\n",
    "feature_log_prob=nb_bow.feature_log_prob_\n",
    "print(\"Max bow feature_log_probability's\",feature_log_prob.max(),\"\\n\")\n",
    "\n",
    "#we get 2 features bow_feature_names and log_probabilities_of_bow_data_ both are in list type \n",
    "#now_convert list_to_columns_for _picking _top_10_features\n",
    "\n",
    "#https://stackoverflow.com/questions/51209933/convert-list-to-column-in-python-dataframe\n",
    "#for converting to column's we require a dataframe to store these list's \n",
    "df = pd.DataFrame(feature_log_prob,columns = bow_feature_names)\n",
    "\n",
    "#now we have a dataframe with list in horizantal column's\n",
    "print(\"horizantal column's\",df.shape,\"\\n\")\n",
    "\n",
    "#here we use transpose function for getting vertcal column's  better view results\n",
    "df_features=df.T \n",
    "print(\"vertical column's\",df_features.shape,\"\\n\")\n",
    "\n",
    "#top 10 positive features  from bow vectorizer \n",
    "print(\"Top 10 positive features from bow vectorizer:-\\n\",df_features[1].sort_values(ascending = False)[:10])"
   ]
  },
  {
   "cell_type": "markdown",
   "metadata": {
    "colab_type": "text",
    "id": "mquFtwF5Jklj"
   },
   "source": [
    "### [5.1.2] Top 10 important features of negative class from<font color='red'> SET 1</font>"
   ]
  },
  {
   "cell_type": "code",
   "execution_count": 33,
   "metadata": {
    "colab": {},
    "colab_type": "code",
    "id": "_RacUnTrJklj"
   },
   "outputs": [
    {
     "name": "stdout",
     "output_type": "stream",
     "text": [
      "\n",
      "\n",
      " Top 10 negative features from bow vecorizer:-\n",
      " tast      -4.296464\n",
      "like      -4.346514\n",
      "product   -4.556602\n",
      "one       -4.833133\n",
      "flavor    -4.905747\n",
      "would     -4.947011\n",
      "tri       -4.948786\n",
      "good      -5.076048\n",
      "coffe     -5.079586\n",
      "use       -5.206837\n",
      "Name: 0, dtype: float64\n"
     ]
    }
   ],
   "source": [
    "# Please write all the code with proper documentation\n",
    "#top 10 negative features from bow vectorizer  \n",
    "print(\"\\n\\n Top 10 negative features from bow vecorizer:-\\n\",df_features[0].sort_values(ascending = False)[:10])"
   ]
  },
  {
   "cell_type": "markdown",
   "metadata": {},
   "source": [
    "we got some similar features in both positive and negative features because of some  stop words we get some common features "
   ]
  },
  {
   "cell_type": "code",
   "execution_count": 34,
   "metadata": {},
   "outputs": [
    {
     "name": "stdout",
     "output_type": "stream",
     "text": [
      "Bow train confusion matrix\n",
      "[[ 6473   970]\n",
      " [  567 34998]]\n"
     ]
    },
    {
     "data": {
      "image/png": "[encoded data removed]",
      "text/plain": [
       "<Figure size 432x288 with 2 Axes>"
      ]
     },
     "metadata": {},
     "output_type": "display_data"
    }
   ],
   "source": [
    "#Bow Train data confusion matrix\n",
    "from sklearn.metrics import confusion_matrix\n",
    "print(\"Bow train confusion matrix\")\n",
    "tfidf_cm_test = confusion_matrix(nb_bow.predict(final_bow_train_data),y_train_data)\n",
    "sns.heatmap(tfidf_cm_test, annot=True, fmt=\"d\")\n",
    "plt.title(\"Bow Train confusion matrix\")\n",
    "plt.xlabel(\"predictual\")\n",
    "plt.ylabel(\"Actual\")\n",
    "print(tfidf_cm_test)"
   ]
  },
  {
   "cell_type": "markdown",
   "metadata": {},
   "source": [
    "<h4> In Bow Train Confusion matrix</h4><br>\n",
    "34998 + 6473 = 41461 are correctly classified<br> \n",
    "567 + 970 = 1537  are in-correctly classified <br>\n",
    "which is model  good trained in train data "
   ]
  },
  {
   "cell_type": "code",
   "execution_count": 35,
   "metadata": {},
   "outputs": [
    {
     "name": "stdout",
     "output_type": "stream",
     "text": [
      "Bow Test confusion matrix\n",
      "[[ 2867  1085]\n",
      " [ 1361 21019]]\n"
     ]
    },
    {
     "data": {
      "image/png": "[encoded data removed]",
      "text/plain": [
       "<Figure size 432x288 with 2 Axes>"
      ]
     },
     "metadata": {},
     "output_type": "display_data"
    }
   ],
   "source": [
    "#Test data confusion matrix \n",
    "from sklearn.metrics import confusion_matrix\n",
    "print(\"Bow Test confusion matrix\")\n",
    "cm_test = confusion_matrix(nb_bow.predict(final_bow_test_data),y_test_data)\n",
    "sns.heatmap(cm_test, annot=True, fmt=\"d\")\n",
    "plt.title(\"test confusion matrix\")\n",
    "plt.xlabel(\"predictual\")\n",
    "plt.ylabel(\"Actual\")\n",
    "print(cm_test)"
   ]
  },
  {
   "cell_type": "markdown",
   "metadata": {},
   "source": [
    "<h4> In Bow  Test Confusion matrix</h4><br>\n",
    "21019 + 2867 = 23886 are correctly classified<br> \n",
    "1361 + 1085 = 2446  are in-correctly classified <br>\n",
    "which is in testdata performed a good  confusionmatrix "
   ]
  },
  {
   "cell_type": "markdown",
   "metadata": {
    "colab_type": "text",
    "id": "6bp7BbwCJkll"
   },
   "source": [
    "## [5.2] Applying Naive Bayes on TFIDF,<font color='red'> SET 2</font>"
   ]
  },
  {
   "cell_type": "code",
   "execution_count": 36,
   "metadata": {
    "colab": {},
    "colab_type": "code",
    "id": "oL29fzPFJkll"
   },
   "outputs": [
    {
     "name": "stdout",
     "output_type": "stream",
     "text": [
      "alpha= 1e-05 cv: 0.8567112499601856 train: 1.0\n",
      "alpha= 0.0001 cv: 0.875885704768174 train: 1.0\n",
      "alpha= 0.001 cv: 0.9023753278053233 train: 1.0\n",
      "alpha= 0.01 cv: 0.9312543574661756 train: 0.9999999881523476\n",
      "alpha= 0.1 cv: 0.926992268926002 train: 0.999944430560751\n",
      "alpha= 1 cv: 0.7992947319339895 train: 0.9357325909015083\n",
      "alpha= 10 cv: 0.7017788194407579 train: 0.7458895675575259\n",
      "alpha= 100 cv: 0.6509560103835985 train: 0.6643244950372553\n",
      "alpha= 1000 cv: 0.6352749052416999 train: 0.6414922639568506\n",
      "alpha= 10000 cv: 0.6327458053305304 train: 0.637752019313885\n",
      "alpha= 100000 cv: 0.6324588982555979 train: 0.6373390101491729\n"
     ]
    }
   ],
   "source": [
    "# Please write all the code with proper documentation\n",
    "#finding the best alpha with use of auc scores \n",
    "train_auc = []\n",
    "cv_auc = []\n",
    "alpha = [0.00001,0.0001,0.001,0.01,0.1,1,10,100,1000,10000,100000]\n",
    "for i in alpha:\n",
    "    tfidf_nb = MultinomialNB(alpha=i)\n",
    "    tfidf_nb.fit(final_tfidf_train_data, y_train_data)\n",
    "    # roc_auc_score(y_true, y_score) the 2nd parameter should be probability estimates of the positive class\n",
    "    # not the predicted outputs\n",
    "    y_train_pred =  tfidf_nb.predict_proba(final_tfidf_train_data)[:,1]\n",
    "    y_cv_pred =  tfidf_nb.predict_proba(final_tfidf_cv_data)[:,1]\n",
    "    train_auc_score=roc_auc_score(y_train_data,y_train_pred)\n",
    "    train_auc.append(train_auc_score)\n",
    "    cv_auc_score=roc_auc_score(y_cv_data, y_cv_pred)\n",
    "    cv_auc.append(cv_auc_score)\n",
    "    print(\"alpha=\",i,\"cv:\",cv_auc_score,\"train:\",train_auc_score)"
   ]
  },
  {
   "cell_type": "markdown",
   "metadata": {},
   "source": [
    "we got optimal alpha is 0.01"
   ]
  },
  {
   "cell_type": "code",
   "execution_count": 57,
   "metadata": {},
   "outputs": [
    {
     "data": {
      "image/png": "[encoded data removed]",
      "text/plain": [
       "<Figure size 432x288 with 1 Axes>"
      ]
     },
     "metadata": {},
     "output_type": "display_data"
    }
   ],
   "source": [
    "#plotting the results\n",
    "plt.plot(log_alpha, train_auc, label='Train AUC')\n",
    "plt.plot(log_alpha, cv_auc, label='CV AUC')\n",
    "plt.legend()\n",
    "plt.xlabel(\"log_alpha\")\n",
    "plt.ylabel(\"AUC\")\n",
    "plt.title(\"AUC vs alpha\")\n",
    "plt.show()"
   ]
  },
  {
   "cell_type": "code",
   "execution_count": 38,
   "metadata": {},
   "outputs": [
    {
     "data": {
      "image/png": "[encoded data removed]",
      "text/plain": [
       "<Figure size 432x288 with 1 Axes>"
      ]
     },
     "metadata": {},
     "output_type": "display_data"
    }
   ],
   "source": [
    "#performing the nb with optimal  alpha for tfidf vectorizer\n",
    "tfidf_nb = MultinomialNB(alpha=0.01)\n",
    "tfidf_nb.fit(final_tfidf_train_data, y_train_data)\n",
    "\n",
    "\n",
    "tfidf_train_fpr, tfidf_train_tpr, tfidf_thresholds = roc_curve(y_train_data, tfidf_nb.predict_proba(final_tfidf_train_data)[:,1])\n",
    "tfidf_test_fpr, tfidf_test_tpr, tfidf_thresholds = roc_curve(y_test_data, tfidf_nb.predict_proba(final_tfidf_test_data)[:,1])\n",
    "\n",
    "plt.plot(tfidf_train_fpr, tfidf_train_tpr, label=\"train AUC =\"+str(auc(tfidf_train_fpr, tfidf_train_tpr)))\n",
    "plt.plot(tfidf_test_fpr, tfidf_test_tpr, label=\"test AUC =\"+str(auc(tfidf_test_fpr, tfidf_test_tpr)))\n",
    "plt.legend()\n",
    "plt.xlabel(\"alpha: hyperparameter\")\n",
    "plt.ylabel(\"AUC\")\n",
    "plt.title(\"ROC CURVES ON TRAIN AND TEST \")\n",
    "plt.show()"
   ]
  },
  {
   "cell_type": "markdown",
   "metadata": {
    "colab_type": "text",
    "id": "Dtpj7iMSJkln"
   },
   "source": [
    "### [5.2.1] Top 10 important features of positive class from<font color='red'> SET 2</font>"
   ]
  },
  {
   "cell_type": "code",
   "execution_count": 73,
   "metadata": {
    "colab": {},
    "colab_type": "code",
    "id": "g3flcTmmJklo"
   },
   "outputs": [
    {
     "name": "stdout",
     "output_type": "stream",
     "text": [
      "Max tfidf feature_log_probability's -6.19081254606915 \n",
      "\n",
      "horizantal column's (2, 822825) \n",
      "\n",
      "vertical column's (822825, 2) \n",
      "\n",
      "Top 10 positive features from tfidf vectorizer:-\n",
      " love     -6.328254\n",
      "great    -6.347200\n",
      "like     -6.353357\n",
      "tast     -6.397574\n",
      "good     -6.401636\n",
      "coffe    -6.426368\n",
      "flavor   -6.463741\n",
      "tea      -6.494209\n",
      "use      -6.622779\n",
      "one      -6.649453\n",
      "Name: 1, dtype: float64\n"
     ]
    }
   ],
   "source": [
    "# Please write all the code with proper documentation\n",
    "#https://www.kaggle.com/premvardhan/amazon-fine-food-reviews-analysis-naive-bayes\n",
    "#first we get a features names here by using count vectorizer  \n",
    "#https://scikit-learn.org/stable/modules/generated/sklearn.feature_extraction.text.CountVectorizer.html\n",
    "tfidf_feature_names=tf_idf_vect.get_feature_names()\n",
    "\n",
    "#here we get a features in horizantal list\n",
    "tfidf_feature_log_prob=tfidf_nb.feature_log_prob_\n",
    "print(\"Max tfidf feature_log_probability's\",tfidf_feature_log_prob.max(),\"\\n\")\n",
    "\n",
    "#we get 2 features bow_feature_names and log_probabilities_of_bow_data_ both are in list type \n",
    "#now_convert list_to_columns_for _picking _top_10_features\n",
    "\n",
    "#https://stackoverflow.com/questions/51209933/convert-list-to-column-in-python-dataframe\n",
    "#for converting to column's we require a dataframe to store these list's \n",
    "df = pd.DataFrame(tfidf_feature_log_prob,columns = tfidf_feature_names)\n",
    "\n",
    "#now we have a dataframe with list in horizantal column's\n",
    "print(\"horizantal column's\",df.shape,\"\\n\")\n",
    "\n",
    "#here we use transpose function for getting vertcal column's  better view results\n",
    "tfidf_features=df.T \n",
    "print(\"vertical column's\",tfidf_features.shape,\"\\n\")\n",
    "\n",
    "# top 10 positive features \n",
    "print(\"Top 10 positive features from tfidf vectorizer:-\\n\",tfidf_features[1].sort_values(ascending = False)[:10])\n"
   ]
  },
  {
   "cell_type": "markdown",
   "metadata": {},
   "source": [
    "Above feat_log_prob is applied in tfidf_nb model for picking which feature has more log_probability and printing  top 10 features \n"
   ]
  },
  {
   "cell_type": "markdown",
   "metadata": {
    "colab_type": "text",
    "id": "UovIVRyEJklq"
   },
   "source": [
    "### [5.2.2] Top 10 important features of negative class from<font color='red'> SET 2</font>"
   ]
  },
  {
   "cell_type": "code",
   "execution_count": 40,
   "metadata": {
    "colab": {},
    "colab_type": "code",
    "id": "i3i3cShuJklr"
   },
   "outputs": [
    {
     "name": "stdout",
     "output_type": "stream",
     "text": [
      "Top 10 positive features from tfidf vectorizer:-\n",
      " tast      -6.190813\n",
      "like      -6.318068\n",
      "product   -6.374451\n",
      "coffe     -6.649898\n",
      "would     -6.676112\n",
      "flavor    -6.711452\n",
      "one       -6.739696\n",
      "tri       -6.771742\n",
      "buy       -6.934771\n",
      "order     -6.939832\n",
      "Name: 0, dtype: float64\n"
     ]
    }
   ],
   "source": [
    "# Please write all the code with proper documentation\n",
    "#top 10 negative features \n",
    "print(\"Top 10 positive features from tfidf vectorizer:-\\n\",tfidf_features[0].sort_values(ascending = False)[:10])"
   ]
  },
  {
   "cell_type": "code",
   "execution_count": 41,
   "metadata": {},
   "outputs": [
    {
     "name": "stdout",
     "output_type": "stream",
     "text": [
      "TFIDF Train confusion matrix\n",
      "[[ 7039     2]\n",
      " [    1 35966]]\n"
     ]
    },
    {
     "data": {
      "image/png": "[encoded data removed]",
      "text/plain": [
       "<Figure size 432x288 with 2 Axes>"
      ]
     },
     "metadata": {},
     "output_type": "display_data"
    }
   ],
   "source": [
    "#TFIDf Train data confusion matrix\n",
    "print(\"TFIDF Train confusion matrix\")\n",
    "tfidf_cm_test = confusion_matrix(tfidf_nb.predict(final_tfidf_train_data),y_train_data)\n",
    "sns.heatmap(tfidf_cm_test, annot=True, fmt=\"d\")\n",
    "plt.title(\"TFIDF Train confusion matrix\")\n",
    "plt.xlabel(\"predictual\")\n",
    "plt.ylabel(\"Actual\")\n",
    "print(tfidf_cm_test)"
   ]
  },
  {
   "cell_type": "markdown",
   "metadata": {},
   "source": [
    "<h4> In TFIDF Train Confusion matrix</h4><br>\n",
    "35966 + 7039 = 43005 are correctly classified<br> \n",
    "1 + 2 = 3  are in-correctly classified <br>\n",
    "which is our model is well  trained in train data"
   ]
  },
  {
   "cell_type": "code",
   "execution_count": 42,
   "metadata": {},
   "outputs": [
    {
     "name": "stdout",
     "output_type": "stream",
     "text": [
      "TFIDF Test confusion matrix\n",
      "[[ 1524   160]\n",
      " [ 2704 21944]]\n"
     ]
    },
    {
     "data": {
      "image/png": "[encoded data removed]",
      "text/plain": [
       "<Figure size 432x288 with 2 Axes>"
      ]
     },
     "metadata": {},
     "output_type": "display_data"
    }
   ],
   "source": [
    "#TFIDf Test data confusion matrix\n",
    "print(\"TFIDF Test confusion matrix\")\n",
    "tfidf_cm_test = confusion_matrix(tfidf_nb.predict(final_tfidf_test_data),y_test_data)\n",
    "sns.heatmap(tfidf_cm_test, annot=True, fmt=\"d\")\n",
    "plt.title(\"TFIDF test confusion matrix\")\n",
    "plt.xlabel(\"predictual\")\n",
    "plt.ylabel(\"Actual\")\n",
    "print(tfidf_cm_test)"
   ]
  },
  {
   "cell_type": "markdown",
   "metadata": {},
   "source": [
    "<h4> In TFIDF Test Confusion matrix</h4><br>\n",
    "21944 + 1524 = 23468 are correctly classified<br> \n",
    "2704 + 160 = 2864  are in-correctly classified <br>\n",
    "which is in testdata performed good  confusionmatrix "
   ]
  },
  {
   "cell_type": "markdown",
   "metadata": {
    "colab_type": "text",
    "id": "vst5Y7mmJklu"
   },
   "source": [
    "# [6] Conclusions"
   ]
  },
  {
   "cell_type": "code",
   "execution_count": 60,
   "metadata": {
    "colab": {},
    "colab_type": "code",
    "id": "De9HYtIGJklv"
   },
   "outputs": [
    {
     "name": "stdout",
     "output_type": "stream",
     "text": [
      "+------------+--------------+------------+-----------+--------+----------+\n",
      "| Vectorizer |    Model     | Best Alpha | Train_Auc | cv_auc | test_auc |\n",
      "+------------+--------------+------------+-----------+--------+----------+\n",
      "|    BOW     | Multinominal |    0.1     |    0.98   |  0.91  |   0.92   |\n",
      "|   TF-IDf   | Multinominal |    0.01    |    0.99   |  0.93  |   0.93   |\n",
      "+------------+--------------+------------+-----------+--------+----------+\n"
     ]
    }
   ],
   "source": [
    "#Please compare all your models using Prettytable library\n",
    "#compare all your models using Prettytable library\n",
    "#ref : http://zetcode.com/python/prettytable/\n",
    "from prettytable import PrettyTable\n",
    "    \n",
    "x = PrettyTable()\n",
    "\n",
    "x.field_names = [\"Vectorizer\", \"Model\", \"Best Alpha\", \"Train_Auc\",\"cv_auc\",\"test_auc\"]\n",
    "\n",
    "x.add_row([\"BOW\", \"Multinominal\",0.1,0.98,0.91,0.92])\n",
    "x.add_row([\"TF-IDf\",\"Multinominal\",0.01,0.99,0.93,0.93 ])\n",
    "print(x)"
   ]
  },
  {
   "cell_type": "markdown",
   "metadata": {},
   "source": [
    "<h3>Conclusions</h3><br>\n",
    "1.For  Naive bayes classifier TF-IDF is the best vectorizer which gives maximum test auc 0.93 and BOW Vectorizer also perform's closer to TFIDF ,Bow vectorizer got's 0.92 test auc score <br>\n",
    "2.And dataset is imbalance so most of positive point's are predicted than negative points <br>\n",
    "3.After applying feature engineering get 1% more in TF-IDF Test Auc score and Bow Test Auc  by mergeing cleaned_summary and length of cleaned_text ,<br>\n",
    "4.Both BOW and TF-IDF are gives nearly equal performance <br>\n",
    "5.We got train, cv, test auc scores are good it not be under and over fit it's a good model <br>\n",
    "6.Confusion matrix also good results in both Bow and Tfidf data, and Tf-idf train confusion matrix trained perfectly compare to Bow <br>\n",
    "7.Representation on x-axis train _auc,cv-auc plot is log10(alpha) which shows alpha range power form  <br>\n",
    "8.For getting top 10 features we use fea_log_prob on multinominal classifier model on train data  that which gives log_probabililties , we pick features which gives high log_prob and considered as important features "
   ]
  }
 ],
 "metadata": {
  "colab": {
   "name": "04 Amazon Fine Food Reviews Analysis_NaiveBayes.ipynb",
   "provenance": [],
   "version": "0.3.2"
  },
  "kernelspec": {
   "display_name": "Python 3",
   "language": "python",
   "name": "python3"
  },
  "language_info": {
   "codemirror_mode": {
    "name": "ipython",
    "version": 3
   },
   "file_extension": ".py",
   "mimetype": "text/x-python",
   "name": "python",
   "nbconvert_exporter": "python",
   "pygments_lexer": "ipython3",
   "version": "3.6.5"
  }
 },
 "nbformat": 4,
 "nbformat_minor": 1
}
